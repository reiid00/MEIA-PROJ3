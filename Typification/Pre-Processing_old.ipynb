{
 "cells": [
  {
   "cell_type": "code",
   "execution_count": 1,
   "id": "a016b6a3",
   "metadata": {},
   "outputs": [],
   "source": [
    "%%capture\n",
    "%pip install pandas\n",
    "%pip install scikit-learn\n",
    "%pip install tensorflow\n",
    "%pip install matplotlib\n",
    "%pip install nltk\n",
    "%pip install seaborn"
   ]
  },
  {
   "cell_type": "code",
   "execution_count": 2,
   "id": "2ae86728",
   "metadata": {},
   "outputs": [
    {
     "name": "stdout",
     "output_type": "stream",
     "text": [
      "                                                                             0\n",
      "Date received                                                       08/09/2015\n",
      "Product                                                       Credit reporting\n",
      "Sub-product                                                                NaN\n",
      "Issue                                   Incorrect information on credit report\n",
      "Sub-issue                                              Information is not mine\n",
      "Consumer complaint narrative                                               NaN\n",
      "Company public response       Company chooses not to provide a public response\n",
      "Company                                    Experian Information Solutions Inc.\n",
      "State                                                                       NJ\n",
      "ZIP code                                                                 08872\n",
      "Tags                                                                       NaN\n",
      "Consumer consent provided?                                Consent not provided\n",
      "Submitted via                                                              Web\n",
      "Date sent to company                                                08/09/2015\n",
      "Company response to consumer                   Closed with non-monetary relief\n",
      "Timely response?                                                           Yes\n",
      "Consumer disputed?                                                          No\n",
      "Complaint ID                                                           1509954\n"
     ]
    }
   ],
   "source": [
    "import pandas as pd\n",
    "\n",
    "# Import the dataset with consumer complaints\n",
    "dataset_CC = pd.read_csv(\"C:\\\\Users\\\\admin\\\\Downloads\\\\complaint_data.csv\")\n",
    "\n",
    "# Show columns as rows for better comprehension\n",
    "print(dataset_CC.head(1).T)"
   ]
  },
  {
   "cell_type": "code",
   "execution_count": 3,
   "id": "034dfc0c",
   "metadata": {},
   "outputs": [
    {
     "name": "stdout",
     "output_type": "stream",
     "text": [
      "Tags                            86.37\n",
      "Consumer complaint narrative    67.31\n",
      "Company public response         62.76\n",
      "Consumer disputed?              47.79\n",
      "Consumer consent provided?      41.39\n",
      "Sub-issue                       37.71\n",
      "Sub-product                     15.98\n",
      "ZIP code                         9.32\n",
      "State                            1.66\n",
      "Date sent to company             0.00\n",
      "Timely response?                 0.00\n",
      "Company response to consumer     0.00\n",
      "Date received                    0.00\n",
      "Submitted via                    0.00\n",
      "Product                          0.00\n",
      "Company                          0.00\n",
      "Issue                            0.00\n",
      "Complaint ID                     0.00\n",
      "dtype: float64\n"
     ]
    }
   ],
   "source": [
    "# Verify lines with empty columns\n",
    "# It is important to mention that there are 4 relevant category columns, namely 'issue', 'Sub-product', 'Issue' and 'Sub-issue'\n",
    "percent_missing = round(dataset_CC.isnull().sum() * 100 / len(dataset_CC), 2)\n",
    "print(percent_missing.sort_values(ascending=False).head(20))"
   ]
  },
  {
   "cell_type": "code",
   "execution_count": 4,
   "id": "30116831",
   "metadata": {},
   "outputs": [
    {
     "name": "stdout",
     "output_type": "stream",
     "text": [
      "Raw Length: 1471766\n",
      "\n",
      "New Length: 481087\n",
      "\n",
      "  Date received      product sub_product             issue sub_issue  \\\n",
      "4    03/04/2016  Credit card         NaN  Billing disputes       NaN   \n",
      "\n",
      "                                  consumer_complaint company_public_response  \\\n",
      "4  I am dissatisfied with the current outcome of ...                     NaN   \n",
      "\n",
      "         company State ZIP code Tags Consumer consent provided? Submitted via  \\\n",
      "4  DISCOVER BANK    NV    891XX  NaN           Consent provided           Web   \n",
      "\n",
      "  Date sent to company         company_response Timely response?  \\\n",
      "4           03/04/2016  Closed with explanation              Yes   \n",
      "\n",
      "  Consumer disputed?  Complaint ID  \n",
      "4                Yes       1816726  \n"
     ]
    }
   ],
   "source": [
    "# Rename important columns to improve machine readability\n",
    "dataset_CC.rename(columns = {'Consumer complaint narrative':'consumer_complaint', 'Product': 'product', 'Sub-product':'sub_product', 'Issue':'issue', 'Sub-issue':'sub_issue', 'Company response to consumer': 'company_response', 'Company public response': 'company_public_response', 'Company': 'company'}, inplace = True)\n",
    "\n",
    "# Delete all lines without consumer complaint narrative which is the text associated with the ticket\n",
    "# This step is crucial because we are gonna use this text to infer the previously mentioned categories.\n",
    "print(f\"Raw Length: {len(dataset_CC)}\\n\")\n",
    "\n",
    "dataset_CC = dataset_CC.dropna(subset=['consumer_complaint'])\n",
    "print(f\"New Length: {len(dataset_CC)}\\n\")\n",
    "print(dataset_CC.head(1))"
   ]
  },
  {
   "cell_type": "code",
   "execution_count": 5,
   "id": "84f990c5",
   "metadata": {},
   "outputs": [
    {
     "name": "stdout",
     "output_type": "stream",
     "text": [
      "Unique Company Responses to Consumers: 6\n",
      "\n",
      "['Closed with explanation' 'Closed with monetary relief'\n",
      " 'Closed with non-monetary relief' 'Untimely response' 'Closed' nan]\n"
     ]
    }
   ],
   "source": [
    "# Analyse the unique company responses to consumers\n",
    "unique_company_responses_to_consumers = dataset_CC['company_response'].unique()\n",
    "print(f\"Unique Company Responses to Consumers: {len(unique_company_responses_to_consumers)}\\n\")\n",
    "print(unique_company_responses_to_consumers[:10])"
   ]
  },
  {
   "cell_type": "code",
   "execution_count": 6,
   "id": "84a67cac",
   "metadata": {},
   "outputs": [
    {
     "name": "stdout",
     "output_type": "stream",
     "text": [
      "Unique Products: 18\n",
      "\n",
      "['Credit card'\n",
      " 'Credit reporting, credit repair services, or other personal consumer reports'\n",
      " 'Debt collection' 'Credit card or prepaid card' 'Mortgage'\n",
      " 'Bank account or service' 'Credit reporting' 'Student loan'\n",
      " 'Checking or savings account' 'Vehicle loan or lease']\n"
     ]
    }
   ],
   "source": [
    "# Analyse the unique values for category 'product'\n",
    "unique_products = dataset_CC['product'].unique()\n",
    "print(f\"Unique Products: {len(unique_products)}\\n\")\n",
    "print(unique_products[:10])"
   ]
  },
  {
   "cell_type": "code",
   "execution_count": 7,
   "id": "b578a605",
   "metadata": {},
   "outputs": [
    {
     "name": "stdout",
     "output_type": "stream",
     "text": [
      "Unique Sub_products: 76\n",
      "\n",
      "[nan 'Credit reporting' 'I do not know'\n",
      " 'General-purpose credit card or charge card' 'FHA mortgage'\n",
      " 'Credit card debt' 'Conventional home mortgage' 'Checking account'\n",
      " 'Store credit card' 'Other (i.e. phone, health club, etc.)']\n"
     ]
    }
   ],
   "source": [
    "# Analyse the unique values for category 'sub_product'\n",
    "unique_sub_products = dataset_CC['sub_product'].unique()\n",
    "print(f\"Unique Sub_products: {len(unique_sub_products)}\\n\")\n",
    "print(unique_sub_products[:10])"
   ]
  },
  {
   "cell_type": "code",
   "execution_count": 8,
   "id": "6f3648b1",
   "metadata": {},
   "outputs": [
    {
     "name": "stdout",
     "output_type": "stream",
     "text": [
      "Unique Issues: 161\n",
      "\n",
      "['Billing disputes' 'Incorrect information on your report'\n",
      " 'Attempts to collect debt not owed' 'Improper use of your report'\n",
      " 'Problem with a purchase shown on your statement'\n",
      " 'Loan modification,collection,foreclosure'\n",
      " 'False statements or representation' 'Trouble during payment process'\n",
      " 'Deposits and withdrawals' 'Problem when making payments']\n"
     ]
    }
   ],
   "source": [
    "# Analyse the unique values for category 'issue'\n",
    "unique_issues = dataset_CC['issue'].unique()\n",
    "print(f\"Unique Issues: {len(unique_issues)}\\n\")\n",
    "print(unique_issues[:10])"
   ]
  },
  {
   "cell_type": "code",
   "execution_count": 9,
   "id": "61119c58",
   "metadata": {},
   "outputs": [
    {
     "name": "stdout",
     "output_type": "stream",
     "text": [
      "Unique Sub_issues: 217\n",
      "\n",
      "[nan 'Information belongs to someone else'\n",
      " 'Debt was result of identity theft'\n",
      " \"Credit inquiries on your report that you don't recognize\"\n",
      " \"Credit card company isn't resolving a dispute about a purchase on your statement\"\n",
      " 'Public record information inaccurate'\n",
      " 'Attempted to collect wrong amount'\n",
      " 'You never received your bill or did not know a payment was due'\n",
      " 'Debt was paid' 'Information is not mine']\n"
     ]
    }
   ],
   "source": [
    "# Analyse the unique values for category 'Sub-issue'\n",
    "unique_sub_issues = dataset_CC['sub_issue'].unique()\n",
    "print(f\"Unique Sub_issues: {len(unique_sub_issues)}\\n\")\n",
    "print(unique_sub_issues[:10])"
   ]
  },
  {
   "cell_type": "code",
   "execution_count": 10,
   "id": "e363ff44",
   "metadata": {},
   "outputs": [
    {
     "name": "stdout",
     "output_type": "stream",
     "text": [
      "product                                                                       sub_product                                 issue                                                                             sub_issue                                                                       \n",
      "Credit reporting, credit repair services, or other personal consumer reports  Credit reporting                            Incorrect information on your report                                              Information belongs to someone else                                                 30960\n",
      "                                                                                                                          Problem with a credit reporting company's investigation into an existing problem  Their investigation did not fix an error on your report                             26321\n",
      "                                                                                                                          Incorrect information on your report                                              Account status incorrect                                                            14457\n",
      "                                                                                                                                                                                                            Account information incorrect                                                       14120\n",
      "                                                                                                                          Improper use of your report                                                       Credit inquiries on your report that you don't recognize                            12836\n",
      "                                                                                                                                                                                                            Reporting company used your report improperly                                        6051\n",
      "Debt collection                                                               Other debt                                  Attempts to collect debt not owed                                                 Debt is not yours                                                                    5007\n",
      "Credit reporting, credit repair services, or other personal consumer reports  Credit reporting                            Incorrect information on your report                                              Old information reappears or never goes away                                         4036\n",
      "Credit card or prepaid card                                                   General-purpose credit card or charge card  Problem with a purchase shown on your statement                                   Credit card company isn't resolving a dispute about a purchase on your statement     3955\n",
      "Debt collection                                                               I do not know                               Attempts to collect debt not owed                                                 Debt is not yours                                                                    3747\n",
      "dtype: int64\n"
     ]
    }
   ],
   "source": [
    "# Get unique combinations of classification columns\n",
    "unique_classification_combinations = dataset_CC[['product', 'sub_product', 'issue', 'sub_issue']].value_counts()\n",
    "\n",
    "print(unique_classification_combinations.head(10))"
   ]
  },
  {
   "cell_type": "code",
   "execution_count": 11,
   "id": "f5400608",
   "metadata": {},
   "outputs": [
    {
     "data": {
      "image/png": "[encoded data removed]",
      "text/plain": [
       "<Figure size 640x480 with 1 Axes>"
      ]
     },
     "metadata": {},
     "output_type": "display_data"
    },
    {
     "data": {
      "image/png": "[encoded data removed]",
      "text/plain": [
       "<Figure size 640x480 with 1 Axes>"
      ]
     },
     "metadata": {},
     "output_type": "display_data"
    }
   ],
   "source": [
    "import seaborn as sns\n",
    "import matplotlib.pyplot as plt\n",
    "\n",
    "sns.set(style=\"darkgrid\")\n",
    "\n",
    "# Plot distribution of values for 'product'\n",
    "sns.countplot(x='product', data=dataset_CC)\n",
    "plt.title('Distribution of Product Values')\n",
    "plt.xlabel('Product')\n",
    "plt.ylabel('Count')\n",
    "plt.show()\n",
    "\n",
    "# Plot distribution of values for 'issue'\n",
    "sns.countplot(x='issue', data=dataset_CC)\n",
    "plt.title('Distribution of Issue Values')\n",
    "plt.xlabel('Issue')\n",
    "plt.ylabel('Count')\n",
    "plt.show()"
   ]
  },
  {
   "cell_type": "code",
   "execution_count": 12,
   "id": "f834d8b3",
   "metadata": {},
   "outputs": [
    {
     "name": "stdout",
     "output_type": "stream",
     "text": [
      "18\n",
      "76\n",
      "161\n",
      "217\n"
     ]
    }
   ],
   "source": [
    "# Pre-processing of class columns\n",
    "from sklearn.preprocessing import LabelEncoder\n",
    "\n",
    "# Rename class columns so that they are preserved after the enconding step\n",
    "dataset_CC.rename(columns = {'product': 'product_desc', 'sub_product':'sub_product_desc', 'issue':'issue_desc', 'sub_issue':'sub_issue_desc'}, inplace = True)\n",
    "\n",
    "le_product = LabelEncoder()\n",
    "le_sub_product = LabelEncoder()\n",
    "le_issue = LabelEncoder()\n",
    "le_sub_issue = LabelEncoder()\n",
    "\n",
    "# Fill NaN values with a string value \"Not Available\"\n",
    "columns_to_fill = ['product_desc','sub_product_desc','issue_desc','sub_issue_desc']\n",
    "dataset_CC[columns_to_fill] = dataset_CC[columns_to_fill].fillna(\"Not Available\")\n",
    "\n",
    "dataset_CC['product'] = le_product.fit_transform(dataset_CC['product_desc'])\n",
    "dataset_CC['sub_product'] = le_sub_product.fit_transform(dataset_CC['sub_product_desc'])\n",
    "dataset_CC['issue'] = le_issue.fit_transform(dataset_CC['issue_desc'])\n",
    "dataset_CC['sub_issue'] = le_sub_issue.fit_transform(dataset_CC['sub_issue_desc'])\n",
    "\n",
    "# Extract number of classes for each category\n",
    "num_classes_product = len(dataset_CC['product'].unique())\n",
    "num_classes_sub_product = len(dataset_CC['sub_product'].unique())\n",
    "num_classes_issue = len(dataset_CC['issue'].unique())\n",
    "num_classes_sub_issue = len(dataset_CC['sub_issue'].unique())\n",
    "\n",
    "print(num_classes_product)\n",
    "print(num_classes_sub_product)\n",
    "print(num_classes_issue)\n",
    "print(num_classes_sub_issue)"
   ]
  },
  {
   "cell_type": "code",
   "execution_count": 13,
   "id": "7e779573",
   "metadata": {},
   "outputs": [
    {
     "name": "stdout",
     "output_type": "stream",
     "text": [
      "X: (481087,)\n",
      "y: (481087, 4)\n",
      "\tColumns: Int64Index([0, 1, 2, 3], dtype='int64')\n"
     ]
    }
   ],
   "source": [
    "# Prepare X and Y sets\n",
    "X = dataset_CC.consumer_complaint\n",
    "y = dataset_CC[['product','sub_product','issue','sub_issue']]\n",
    "y = y.rename(columns = {'product':0,'sub_product': 1, 'issue' : 2, 'sub_issue': 3})\n",
    "print(f\"X: {X.shape}\")\n",
    "print(f\"y: {y.shape}\\n\\tColumns: {y.columns}\")"
   ]
  },
  {
   "cell_type": "code",
   "execution_count": 15,
   "id": "202d212b",
   "metadata": {},
   "outputs": [
    {
     "name": "stderr",
     "output_type": "stream",
     "text": [
      "[nltk_data] Downloading package punkt to\n",
      "[nltk_data]     C:\\Users\\admin\\AppData\\Roaming\\nltk_data...\n",
      "[nltk_data]   Package punkt is already up-to-date!\n",
      "[nltk_data] Downloading package stopwords to\n",
      "[nltk_data]     C:\\Users\\admin\\AppData\\Roaming\\nltk_data...\n",
      "[nltk_data]   Unzipping corpora\\stopwords.zip.\n"
     ]
    },
    {
     "name": "stdout",
     "output_type": "stream",
     "text": [
      "[['dissatisfi', 'current', 'outcom', 'disput', 'initi', 'discov', 'card', 'regard', 'singl', 'transact', 'occur', 'xxxxxxxx', '<', 'num', '>', 'amount', '<', 'num', '>', 'correspond', 'discov', 'card', 'least', 'four', 'time', 'sinc', 'xxxxxxxx', '<', 'num', '>', 'enclos', 'attach', 'complaint', 'believ', 'credit', 'card', 'issuer', 'violat', 'consum', 'protect', 'law', 'fail', 'implement', 'special', 'rule', 'credit', 'card', 'purchas', 'protect', 'despit', 'overwhelm', 'paperwork', 'evid', 'submit', 'show', 'merchant', 'conduct', 'busi', 'bad', 'faith', 'less', 'favor', 'consum', 'sustain', 'monetari', 'loss', 'result', 'merchant', 'bad', 'faith', 'intent', 'patient', 'util', 'intern', 'discov', 'card', 'disput', 'process', 'past', 'three', 'month', 'credit', 'card', 'issuer', 'alway', 'favor', 'merchant', 'repeat', 'submit', 'irrefut', 'paperwork', 'evid', 'shown', 'merchant', 'conduct', 'busi', 'bad', 'faith', 'tri', 'good', 'faith', 'address', 'complaint', 'merchant', 'discov', 'card', 'believ', 'receiv', 'favor', 'outcom'], ['xxxx', '<', 'num', '>', 'item', 'show', 'credit', 'report', 'previous', 'remov', 'differ', 'collect', 'agenc', 'base', 'burden', 'proof', 'debt', 'even', 'exist', 'would', 'appear', 'debt', 'sold', 'xxxx', 'xxxx', 'xxxx', 'practic', 'high', 'illeg', 'demand', 'remov', 'report', 'immedi'], ['saw', 'credit', 'report', 'collect', '<', 'num', '>', 'dont', 'know', 'sinc', 'incur', 'debt', 'first', 'collect', 'compani', 'said', 'close', 'account', 'return', 'account', 'client', 'xxxx', 'xxxx', 'xxxx', 'xxxx', 'xxxx', 'mean', 'debt'], ['capit', 'one', 'auto', 'finac', 'xxxx', '<', 'num', '>', 'unknown', 'inquir', 'credit', 'report'], ['small', 'truck', 'compani', 'one', 'truck', 'need', 'repair', 'hire', 'mechan', 'repair', 'xxxxxxxx', 'told', 'us', 'instal', 'new', 'batteri', 'new', 'starter', 'truck', 'mechan', 'state', 'work', 'guarante', 'paid', 'td', 'bank', 'xxxx', 'credit', 'card', '<', 'num', '>', 'repair', 'driver', 'went', 'start', 'truck', 'work', 'next', 'day', 'truck', 'workstart', 'tri', 'callingtext', 'mechan', 'let', 'know', 'truck', 'work', 'even', 'though', 'previous', 'day', 'said', 'fix', 'truck', 'text', 'phone', 'record', 'show', 'reach', 'mechan', 'respons', 'hire', 'anoth', 'mechan', 'fix', 'truck', 'found', 'part', 'put', 'truck', 'first', 'mechan', 'wrong', 'file', 'disput', 'xxxxxxxx', 'transact', 'td', 'bank', 'xxxx', 'credit', 'card', 'even', 'though', 'paid', 'first', 'mechan', '<', 'num', '>', 'disput', 'amount', '<', 'num', '>', 'amount', 'wrong', 'part', 'credit', 'card', 'compani', 'request', 'proof', 'record', 'second', 'estim', 'work', 'done', 'truck', 'overnight', 'packag', 'xxxxxxxx', 'credit', 'card', 'compani', 'within', 'day', 'two', 'disput', 'depart', 'request', 'second', 'estim', 'disput', 'depart', 'state', 'xxxxxxxx', 'submit', 'second', 'estim', 'document', 'fax', 'second', 'estim', 'xxxxxxxx', 'date', 'disput', 'depart', 'receiv', 'overnight', 'packag', 'call', 'followup', 'tuesday', 'xxxxxxxx', 'disput', 'depart', 'state', 'never', 'receiv', 'second', 'estim', 'need', 'disput', 'even', 'though', 'fax', 'confirm', 'transmiss', 'state', 'fax', 'sent', 'sent', 'fax', 'onxxxxxxxx', 'deadlin', 'document', 'receiv', 'fax', 'confirm', 'sheet', 'state', 'fax', 'sent', 'td', 'bank', 'xxxx', 'credit', 'card', 'state', 'never', 'receiv', 'second', 'estim', 'time', 'close', 'disput', 'even', 'though', 'everyth', 'request', 'time', 'want', 'failur', 'end', 'receiv', 'fax', 'even', 'though', 'proof', 'compani', 'lost', 'protect', 'xxxx', 'logo'], ['xxxxxxxx', 'work', 'xxxx', 'xxxx', 'xxxx', 'xxxx', 'xxxx', 'result', 'seri', 'legisl', 'call', 'act', '<', 'num', '>', 'forc', 'take', 'cut', 'take', 'home', 'pay', 'almost', 'xxxx', 'per', 'month', 'immedi', 'began', 'tri', 'work', 'xxxx', 'xxxx', 'xxxx', 'modifi', 'home', 'loan', 'someth', 'afford', 'told', '<', 'num', '>', 'day', 'behind', 'order', 'start', 'modif', 'process', 'allow', 'fall', 'behind', 'start', 'process', 'run', '<', 'num', '>', 'day', 'late', 'prior', '<', 'num', '>', 'year', 'attempt', 'work', 'includ', 'lost', 'paperwork', 'inaccur', 'claim', 'ie', 'home', 'vacant', 'nt', 'chang', 'case', 'worker', 'etc', 'final', 'contact', 'local', 'state', 'repres', 'manag', 'get', 'xxxx', 'xxxx', 'xxxx', 'work', 'xxxxxxxx', 'final', 'modif', 'offer', 'modifi', 'home', '<', 'num', '>', 'home', 'worth', '<', 'num', '>', 'ask', 'modifi', 'worth', 'told', 'sign', 'modif', 'xxxx', 'xxxx', 'xxxx', 'would', 'work', 'adjust', 'modif', 'valu', 'reason', 'amount', 'high', 'due', 'xxxx', 'xxxx', 'xxxx', 'take', '<', 'num', '>', 'year', 'modifi', 'mortgag', 'ineptitud', 'process', 'xxxxxxxx', 'offer', 'job', 'xxxx', 'nd', 'accept', 'prefer', 'time', 'would', 'modif', 'valu', 'home', 'rent', 'home', 'xxxx', 'xxxx', 'xxxx', 'refus', 'honor', 'earlier', 'agreement', 'renegoti', 'modif', 'valu', 'home', 'fallen', 'foreclosur', 'vacant', 'xxxx', 'xxxx', 'xxxx', 'sold', 'mortgag', 'carrington', 'mortgagewhil', 'middl', 'modif', 'xxxx', 'xxxx', 'attempt', 'process', 'deni', 'option', 'call', 'work', 'compani', 'told', 'sever', 'occas', 'differ', 'thing', 'told', 'go', 'ahead', 'short', 'sale', 'receiv', 'letter', 'later', 'state', 'possibl', 'also', 'receiv', 'letter', 'state', 'qualifi', 'option', 'xxxxxxxx', 'receiv', 'notic', 'law', 'firm', 'repres', 'xxxx', 'xxxx', 'xxxx', 'foreclosur', 'reopen', 'xxxxxxxx', 'receiv', 'attach', 'legal', 'work', 'state', 'foreclosur', '<', 'num', '>', 'month', 'redempt', 'contact', 'carrington', 'xxxx', 'xxxx', 'xxxx', 'cours', 'last', '<', 'num', '>', 'month', 'told', 'own', 'mortgag', 'one', 'foreclos', 'process', 'start', 'start', 'xxxx', 'xxxx', 'xxxx', 'allow', 'nt', 'loan', 'loan', 'etc', 'last', 'convers', 'carrington', 'state', 'sell', 'mortgag', 'effect', 'xxxxxxxxxxxx', 'anyth', 'attorney', 'xxxx', 'xxxx', 'xxxx', 'tri', 'move', 'forward', 'foreclosur', 'deal', 'almost', '<', 'num', '>', 'year', 'solut', 'sight', 'complet', '<', 'num', '>', 'year', 'ago', 'attach', 'rmas', 'etc', 'paperwork', 'avail', 'xxxx', 'page', 'worth'], ['public', 'record', 'child', 'support', 'entri', 'place', 'credit', 'report', 'tri', '<', 'num', '>', 'month', 'get', 'entri', 'remov', 'spoken', 'number', 'repres', 'supervisor', 'manag', 'regard', 'erron', 'public', 'record', 'yet', 'get', 'resolv', '<', 'num', '>', 'th', 'disput', 'current', 'await', 'result', 'xxxxxxxx', 'call', 'spoke', 'repres', 'inquir', 'xxxx', 'xxxx', 'experian', 'verifi', 'public', 'record', 'want', 'know', 'inform', 'public', 'record', 'keep', 'come', 'back', 'mine', '<', 'num', '>', 'repres', 'told', 'requestdisput', 'sent', 'messag', 'courthous', 'xxxx', 'court', 'verifi', 'inform', 'sent', 'back', 'credit', 'bureau', 'advis', 'would', 'like', 'cancel', 'disput', 'advis', 'disput', 'alreadi', 'sent', 'courthous', 'need', 'contact', 'name', 'case', 'number', 'work', 'xxxx', 'xxxx', 'know', 'court', 'system', 'procedur', 'decid', 'call', 'anyway', 'contact', 'court', 'advis', 'disclos', 'releas', 'verifi', 'inform', 'credit', 'bureaus', '<', 'num', '>', 'rd', 'parti', 'decid', 'call', 'xxxx', 'back', 'spoke', 'anoth', 'rep', 'time', 'advis', 'inform', 'verifi', 'runner', 'goe', 'court', 'hous', 'ask', 'inform', 'runner', 'give', 'courthous', 'kind', 'physic', 'inform', 'runner', 'give', 'back', 'credit', 'bureau', 'could', 'answer', 'request', 'speak', 'manag', 'manag', 'advis', 'sinc', 'reinvestig', 'runner', 'involv', 'advis', 'use', 'form', 'send', 'courthous', 'ask', 'type', 'form', 'sent', 'courthous', 'confirm', 'verifi', 'inform', 'bureaus', '<', 'num', '>', 'major', 'bureaus', 'refus', 'give', 'physic', 'document', 'whether', 'tangibl', 'electron', 'use', 'verifi', 'account', 'mine'], ['xxxxxxxx', 'receiv', 'letter', 'harri', 'zide', 'repres', 'xxxx', 'xxxx', 'origin', 'creditor', 'xxxx', 'xxxx', 'bank', 'sold', 'xxxx', 'fund', 'letter', 'state', 'process', 'lawsuit', 'collect', 'amount', '<', 'num', '>', 'contact', 'immedi', 'contact', 'spoke', 'repres', 'name', 'xxxx', 'inform', 'letter', 'let', 'know', 'want', 'set', 'arrang', 'ask', 'could', 'pay', 'state', '<', 'num', '>', 'month', 'advis', 'could', 'agre', 'amount', 'could', 'send', 'money', 'would', 'stop', 'lawsuit', 'told', 'would', 'follow', 'later', 'next', 'day', 'set', 'payment', 'arrang', 'guy', 'name', 'xxxx', 'amount', '<', 'num', '>', 'month', 'balanc', 'paid', 'ask', 'agreement', 'write', 'inform', 'would', 'receiv', 'stipul', 'agreement', 'sign', 'send', 'back', 'week', 'went', 'follow', 'agreement', 'made', '<', 'num', '>', 'payment', 'gave', 'run', 'around', 'said', 'receiv', 'soon', 'ask', 'speak', 'supervisor', 'supervisor', 'name', 'xxxx', 'fax', 'written', 'agreement', 'payment', 'arrang', 'xxxxxxxx', 'receiv', 'stipul', 'differ', 'amount', 'owe', '<', 'num', '>', 'amount', 'never', 'disclos', 'previous', 'convers', 'correct', 'balanc', 'report', 'credit', 'report', 'agreement', 'sent', 'state', 'owe', '<', 'num', '>', 'deni', 'balanc', '<', 'num', '>', 'collect', 'debt'], ['xxxx', 'furnish', 'fictici', 'derogatori', 'inform', 'lender', 'xxxx', 'provid', 'fals', 'low', 'credit', 'score', 'fals', 'inform', 'well', 'assur', 'denial', 'xxxx'], ['complaint', 'suntrust', 'mortgag', 'regard', 'post', 'month', 'payment', 'sinc', 'take', 'loan', 'servic', 'xxxx', '<', 'num', '>', 'month', 'statement', 'consist', 'reflect', '<', 'num', '>', 'month', 'payment', 'due', 'contact', 'mortgag', 'compani', 'everi', 'month', 'better', 'understand', 'occur', 'submit', 'month', 'payment', 'well', 'xxxx', 'month', 'initi', 'receiv', 'statement', 'xxxx', 'reflect', '<', 'num', '>', 'month', 'due', 'mortgag', 'xxxx', 'xxxx', 'note', 'correspond', 'state', 'loan', 'sold', 'end', 'xxxx', 'account', 'inform', 'provid', 'new', 'servic', 'provid', 'suntrust', 'reach', 'suntrust', 'make', 'onlin', 'payment', 'prior', 'xxxxxxxx', 'maintain', 'account', 'current', 'xxxx', 'bill', 'statement', 'understood', 'system', 'generat', 'dual', 'payment', 'due', 'convers', 'time', 'note', 'howev', 'xxxx', 'bill', 'statement', 'understand', 'still', 'show', '<', 'num', '>', 'payment', 'due', 'contact', 'suntrust', 'xxxxxxxx', 'told', 'bill', 'cycl', 'occur', 'everi', 'xxxx', 'month', 'automat', 'setup', 'system', 'addit', 'mail', 'hardcopi', 'check', 'month', 'need', 'make', 'escrow', 'shortag', 'understand', 'bill', 'cycl', 'sent', 'xxxx', 'payment', 'xxxx', '<', 'num', '>', 'via', 'epay', 'xxxx', 'xxxx', 'account', 'visit', 'websit', 'xxxx', '<', 'num', '>', 'see', 'payment', 'yet', 'post', 'xxxx', 'xxxx', 'show', 'fund', 'withdrawn', 'account', 'xxxx', '<', 'num', '>', 'spoke', 'xxxx', 'custom', 'servic', 'explain', 'payment', 'may', 'show', 'deduct', 'account', 'probabl', 'mail', 'xxxx', 'xxxx', 'yet', 'process', 'xxxx', 'statement', 'generat', 'alreadi', 'show', '<', 'num', '>', 'payment', 'due', 'suntrust', 'system', 'deliber', 'tri', 'access', 'late', 'payment', 'statement']]\n",
      "[[3283  145 1577 ...    0    0    0]\n",
      " [   1    3    2 ...    0    0    0]\n",
      " [ 626    5    7 ...    0    0    0]\n",
      " ...\n",
      " [   8   14   26 ...    0    0    0]\n",
      " [   1  518 9944 ...    0    0    0]\n",
      " [  84  913   44 ...    0    0    0]]\n"
     ]
    }
   ],
   "source": [
    "# Input Pre-processing\n",
    "import re\n",
    "import nltk\n",
    "nltk.download('punkt')\n",
    "nltk.download('stopwords')\n",
    "from nltk.tokenize import word_tokenize\n",
    "from nltk.stem import SnowballStemmer\n",
    "\n",
    "from nltk.corpus import stopwords\n",
    "\n",
    "# Define stop words\n",
    "stop_words = set(stopwords.words('english'))\n",
    "\n",
    "# Define num_words\n",
    "num_words = 10000\n",
    "\n",
    "# Create a stemmer object\n",
    "stemmer = SnowballStemmer('english')\n",
    "# stemmer = PorterStemmer('english') commented for future comparison\n",
    "\n",
    "# Tokenize and stem the text\n",
    "def tokenize_and_stem(text):\n",
    "    # Remove punctuation\n",
    "    # This will help to treat each text equally\n",
    "    text = re.sub(r'[^\\w\\s]', '', text)\n",
    "    # Replace numbers with <num> token to avoid errors in num tokens operations for being considered integers\n",
    "    # This will preserve the information that there was a number in the text without causing, for example, the AttributeError.\n",
    "    text = re.sub(r'\\d+', '<num>', text)\n",
    "    # Lowercase the text and tokenize it\n",
    "    tokens = word_tokenize(text.lower())\n",
    "    # Remove stop words and stem the rest\n",
    "    tokens = [stemmer.stem(token) for token in tokens if token not in stop_words]\n",
    "    return tokens\n",
    "\n",
    "X = [tokenize_and_stem(text) for text in X]\n",
    "\n",
    "# Print the results after stemming\n",
    "print(X[:10])"
   ]
  },
  {
   "cell_type": "code",
   "execution_count": null,
   "id": "c8e0377f",
   "metadata": {},
   "outputs": [],
   "source": [
    "# Input Pre-processing Continuation\n",
    "from tensorflow.keras.preprocessing.text import Tokenizer\n",
    "from tensorflow.keras.preprocessing.sequence import pad_sequences\n",
    "\n",
    "# Tokenize the stemmed text into integer values\n",
    "tokenizer = Tokenizer(num_words=num_words)\n",
    "tokenizer.fit_on_texts(X)\n",
    "X = tokenizer.texts_to_sequences(X)\n",
    "\n",
    "# Calculate max_len\n",
    "max_len = max([len(seq) for seq in X])\n",
    "\n",
    "# Pad the sequences\n",
    "# Padding is necessary because neural networks expect inputs to have a fixed shape\n",
    "# Thus, this pads all sequences that are shorter than the maximum length with 0s at the end,\n",
    "# and truncates all sequences that are longer than the maximum length\n",
    "X = pad_sequences(X, maxlen=max_len, padding='post', truncating='post')\n",
    "\n",
    "# Print the results after padding\n",
    "print(X[:10])"
   ]
  },
  {
   "cell_type": "code",
   "execution_count": 16,
   "id": "94d45add",
   "metadata": {},
   "outputs": [
    {
     "name": "stdout",
     "output_type": "stream",
     "text": [
      "Model: \"model\"\n",
      "__________________________________________________________________________________________________\n",
      " Layer (type)                   Output Shape         Param #     Connected to                     \n",
      "==================================================================================================\n",
      " input_1 (InputLayer)           [(None, 3648)]       0           []                               \n",
      "                                                                                                  \n",
      " embedding (Embedding)          (None, 3648, 50)     500000      ['input_1[0][0]']                \n",
      "                                                                                                  \n",
      " conv1d (Conv1D)                (None, 3644, 128)    32128       ['embedding[0][0]']              \n",
      "                                                                                                  \n",
      " max_pooling1d (MaxPooling1D)   (None, 1822, 128)    0           ['conv1d[0][0]']                 \n",
      "                                                                                                  \n",
      " conv1d_1 (Conv1D)              (None, 1820, 64)     24640       ['max_pooling1d[0][0]']          \n",
      "                                                                                                  \n",
      " max_pooling1d_1 (MaxPooling1D)  (None, 910, 64)     0           ['conv1d_1[0][0]']               \n",
      "                                                                                                  \n",
      " flatten (Flatten)              (None, 58240)        0           ['max_pooling1d_1[0][0]']        \n",
      "                                                                                                  \n",
      " dense (Dense)                  (None, 64)           3727424     ['flatten[0][0]']                \n",
      "                                                                                                  \n",
      " dense_4 (Dense)                (None, 64)           3727424     ['flatten[0][0]']                \n",
      "                                                                                                  \n",
      " dropout (Dropout)              (None, 64)           0           ['dense[0][0]']                  \n",
      "                                                                                                  \n",
      " dropout_2 (Dropout)            (None, 64)           0           ['dense_4[0][0]']                \n",
      "                                                                                                  \n",
      " dense_1 (Dense)                (None, 18)           1170        ['dropout[0][0]']                \n",
      "                                                                                                  \n",
      " dense_5 (Dense)                (None, 161)          10465       ['dropout_2[0][0]']              \n",
      "                                                                                                  \n",
      " concatenate (Concatenate)      (None, 58258)        0           ['flatten[0][0]',                \n",
      "                                                                  'dense_1[0][0]']                \n",
      "                                                                                                  \n",
      " concatenate_1 (Concatenate)    (None, 58401)        0           ['flatten[0][0]',                \n",
      "                                                                  'dense_5[0][0]']                \n",
      "                                                                                                  \n",
      " dense_2 (Dense)                (None, 64)           3728576     ['concatenate[0][0]']            \n",
      "                                                                                                  \n",
      " dense_6 (Dense)                (None, 64)           3737728     ['concatenate_1[0][0]']          \n",
      "                                                                                                  \n",
      " dropout_1 (Dropout)            (None, 64)           0           ['dense_2[0][0]']                \n",
      "                                                                                                  \n",
      " dropout_3 (Dropout)            (None, 64)           0           ['dense_6[0][0]']                \n",
      "                                                                                                  \n",
      " dense_3 (Dense)                (None, 76)           4940        ['dropout_1[0][0]']              \n",
      "                                                                                                  \n",
      " dense_7 (Dense)                (None, 217)          14105       ['dropout_3[0][0]']              \n",
      "                                                                                                  \n",
      " concatenate_2 (Concatenate)    (None, 472)          0           ['dense_1[0][0]',                \n",
      "                                                                  'dense_3[0][0]',                \n",
      "                                                                  'dense_5[0][0]',                \n",
      "                                                                  'dense_7[0][0]']                \n",
      "                                                                                                  \n",
      "==================================================================================================\n",
      "Total params: 15,508,600\n",
      "Trainable params: 15,508,600\n",
      "Non-trainable params: 0\n",
      "__________________________________________________________________________________________________\n"
     ]
    }
   ],
   "source": [
    "import tensorflow as tf\n",
    "import tensorflow.keras as tk\n",
    "from tensorflow.keras.layers import Input, Embedding, Conv1D, MaxPooling1D, Flatten, Dense, Dropout, LSTM\n",
    "from tensorflow.keras.models import Model\n",
    "\n",
    "# Define embedding_dim\n",
    "embedding_dim = 50\n",
    "\n",
    "# Input layer\n",
    "input_layer = Input(shape=(max_len,), dtype='int32')\n",
    "\n",
    "# Embedding layer\n",
    "embedding_layer = Embedding(input_dim=num_words, output_dim=embedding_dim, input_length=max_len)(input_layer)\n",
    "\n",
    "# convolutional layer so the model is trained to learn more complex and abstract features from the input text.\n",
    "# Convolutional layers are commonly used in natural language processing tasks because they can extract patterns and features \n",
    "# from the text data in a more efficient way than a fully connected layer.\n",
    "# In this case, the convolutional layer takes the embedded input text tensor and applies a convolution operation to it with multiple filter sizes. \n",
    "# Each filter size captures different n-gram patterns in the input text, such as bigrams or trigrams, \n",
    "# which helps the model to learn more about the structure and meaning of the text.\n",
    "# After applying the convolutional operation, a max pooling layer is added to extract the most important information\n",
    "# from the resulting feature maps. This helps to reduce the size of the feature maps and makes the model more computationally efficient.\n",
    "conv_layer1 = Conv1D(filters=128, kernel_size=5, activation='relu')(embedding_layer)\n",
    "max_pool1 = MaxPooling1D(pool_size=2)(conv_layer1)\n",
    "conv_layer2 = Conv1D(filters=64, kernel_size=3, activation='relu')(max_pool1)\n",
    "max_pool2 = MaxPooling1D(pool_size=2)(conv_layer2)\n",
    "\n",
    "# Flatten layer so the output of the pooling layer is flattened and passed through a dense layer, \n",
    "# which learns to map the extracted features to the output classes.\n",
    "flatten_layer = Flatten()(max_pool2)\n",
    "\n",
    "# In the following code, each class is has a dense layer that is added after the convolutional layer to further process the features extracted \n",
    "# by the convolutional layer. Before extracting the outputs, each of this dense layers uses dropout.\n",
    "\n",
    "# Dropout is a regularization technique used to prevent overfitting in neural networks\n",
    "# It works by randomly dropping out (i.e., setting to zero) a certain percentage of neurons during training.\n",
    "# This helps to prevent the network from relying too heavily on any one set of neurons,\n",
    "# and encourages it to learn more robust features that are useful for making predictions on new data.\n",
    "\n",
    "# product class output layer\n",
    "dense_layer1 = Dense(units=64, activation='relu')(flatten_layer)\n",
    "dropout1 = Dropout(rate=0.5)(dense_layer1)\n",
    "product_output = Dense(units=num_classes_product, activation='softmax')(dropout1)\n",
    "\n",
    "# sub_product subclass output layer\n",
    "# Add a Concatenate layer to concatenate the input with the output from parent class, product\n",
    "concatenate_layer = tf.keras.layers.concatenate([flatten_layer, product_output])\n",
    "dense_layer2 = Dense(units=64, activation='relu')(concatenate_layer)\n",
    "dropout2 = Dropout(rate=0.5)(dense_layer2)\n",
    "sub_product_output = Dense(units=num_classes_sub_product, activation='softmax')(dropout2)\n",
    "\n",
    "# issue class output layer\n",
    "dense_layer3 = Dense(units=64, activation='relu')(flatten_layer)\n",
    "dropout3 = Dropout(rate=0.5)(dense_layer3)\n",
    "issue_output = Dense(units=num_classes_issue, activation='softmax')(dropout3)\n",
    "\n",
    "# sub_issue subclass output layer\n",
    "# Add a Concatenate layer to concatenate the input with the output from parent class, issue\n",
    "concatenate_layer = tf.keras.layers.concatenate([flatten_layer, issue_output])\n",
    "dense_layer4 = Dense(units=64, activation='relu')(concatenate_layer)\n",
    "dropout4 = Dropout(rate=0.5)(dense_layer4)\n",
    "sub_issue_output = Dense(units=num_classes_sub_issue, activation='softmax')(dropout4)\n",
    "\n",
    "# Concatenate the outputs of all classes\n",
    "concatenated_output = tf.keras.layers.concatenate([product_output, sub_product_output, issue_output, sub_issue_output])\n",
    "\n",
    "# Create the model\n",
    "model = Model(inputs=input_layer, outputs=concatenated_output)\n",
    "model.summary()"
   ]
  },
  {
   "cell_type": "code",
   "execution_count": 17,
   "id": "94b5a97d",
   "metadata": {},
   "outputs": [],
   "source": [
    "from tensorflow.keras.callbacks import LearningRateScheduler, EarlyStopping, Callback\n",
    "\n",
    "# Define the training progress tracker callback\n",
    "# This will help track the training progress of the model during runtime\n",
    "class ProgressTrackerCallback(Callback):\n",
    "    def on_epoch_begin(self, epoch, logs=None):\n",
    "        print(\"Epoch {} starts\".format(epoch+1))\n",
    "\n",
    "    def on_epoch_end(self, epoch, logs=None):\n",
    "        print(\"Epoch {} ends\".format(epoch+1))\n",
    "\n",
    "    def on_train_batch_begin(self, batch, logs=None):\n",
    "        print(\"Training batch {} starts\".format(batch+1))\n",
    "\n",
    "    def on_train_batch_end(self, batch, logs=None):\n",
    "        print(\"Training batch {} ends\".format(batch+1))\n",
    "\n",
    "    def on_test_batch_begin(self, batch, logs=None):\n",
    "        print(\"Testing batch {} starts\".format(batch+1))\n",
    "\n",
    "    def on_test_batch_end(self, batch, logs=None):\n",
    "        print(\"Testing batch {} ends\".format(batch+1))\n",
    "\n",
    "# Define the learning rate range test callback\n",
    "# This will plot the learning rate vs. loss curve, which can be used to choose a good learning rate.\n",
    "# The learning rate should be chosen as the point where the loss is still decreasing but has not yet started to increase sharply. \n",
    "# In practice, this is often a learning rate that is one or two orders of magnitude smaller than the point of maximum slope in the curve.\n",
    "class LearningRateFinder(LearningRateScheduler):\n",
    "    def __init__(self, start_lr=1e-5, end_lr=10, num_iter=100):\n",
    "        self.start_lr = start_lr\n",
    "        self.end_lr = end_lr\n",
    "        self.num_iter = num_iter\n",
    "        super(LearningRateFinder, self).__init__(self.lr_schedule)\n",
    "        \n",
    "    def lr_schedule(self, epoch):\n",
    "        return self.start_lr + epoch * (self.end_lr - self.start_lr) / self.num_iter\n",
    "    \n",
    "    def on_train_begin(self, logs={}):\n",
    "        self.lrates = []\n",
    "        self.losses = []\n",
    "        \n",
    "    def on_batch_end(self, batch, logs={}):\n",
    "        lr = self.model.optimizer.lr\n",
    "        self.lrates.append(lr)\n",
    "        loss = logs.get('loss')\n",
    "        self.losses.append(loss)\n",
    "\n",
    "# Train the model using the learning rate range test callback\n",
    "lr_finder = LearningRateFinder()\n",
    "\n",
    "# Train the model using the progress tracker callback\n",
    "progress_tracker = ProgressTrackerCallback()\n",
    "\n",
    "# Early stopping is a technique used to prevent overfitting during model training. \n",
    "# It monitors the performance of the model on a validation set during training, and if the performance does not improve \n",
    "# for a certain number of epochs, the training is stopped early.\n",
    "# This can help save time and resources during training, and prevent overfitting to the training set.\n",
    "early_stopping = EarlyStopping(\n",
    "    monitor='val_loss', # quantity to be monitored\n",
    "    mode='min', # minimize the quantity monitored\n",
    "    patience=3, # number of epochs with no improvement after which training will be stopped\n",
    "    verbose=1, # logging mode\n",
    "    restore_best_weights=True # restore the weights from the epoch with the best value of the monitored quantity\n",
    ")"
   ]
  },
  {
   "cell_type": "code",
   "execution_count": 18,
   "id": "27569301",
   "metadata": {},
   "outputs": [
    {
     "name": "stdout",
     "output_type": "stream",
     "text": [
      "(307895, 3648)\n",
      "(96218, 3648)\n",
      "(76974, 3648)\n",
      "(307895, 4)\n",
      "(96218, 4)\n",
      "(76974, 4)\n"
     ]
    }
   ],
   "source": [
    "from sklearn.model_selection import train_test_split\n",
    "\n",
    "# Split the data into training, validation, and test sets\n",
    "X_train, X_test, y_train, y_test = train_test_split(X, y, test_size=0.2, random_state=42)\n",
    "X_train, X_val, y_train, y_val = train_test_split(X_train, y_train, test_size=0.2, random_state=42)\n",
    "\n",
    "print(X_train.shape)\n",
    "print(X_test.shape)\n",
    "print(X_val.shape)\n",
    "print(y_train.shape)\n",
    "print(y_test.shape)\n",
    "print(y_val.shape)"
   ]
  },
  {
   "cell_type": "code",
   "execution_count": 19,
   "id": "a0208782",
   "metadata": {},
   "outputs": [
    {
     "name": "stdout",
     "output_type": "stream",
     "text": [
      "4\n",
      "[1.04122721e-03 8.04775786e-04 1.70167897e-03 7.86142382e-04\n",
      " 4.32984769e-04 4.18931602e-04 0.00000000e+00 4.09430831e-05\n",
      " 2.12440715e-03 1.15185837e-02 1.59932620e-04 5.68787721e-02\n",
      " 9.77024325e-03 2.63003111e-03 1.20465786e-02 5.71118907e-04\n",
      " 2.02564149e-03 1.00000000e+00]\n"
     ]
    }
   ],
   "source": [
    "from sklearn.utils.class_weight import compute_class_weight\n",
    "from sklearn.preprocessing import MinMaxScaler\n",
    "import numpy as np\n",
    "\n",
    "# Compute class weights to avoid overfitting due to a bad distribution of classes.\n",
    "# This helps the model to pay more attention to the less frequent classes during training, \n",
    "# and avoid overfitting to the more frequent classes.\n",
    "class_weights = {}\n",
    "for i in range(y_train.shape[1]):\n",
    "    class_weights_i = compute_class_weight('balanced', classes=np.unique(y_train.iloc[:, i]), y=y_train.iloc[:, i])\n",
    "    # Normalize the class weights distribution using MinMaxScaler.\n",
    "    # This will ensure normalized class weights scaled between 0 and 1\n",
    "    scaler = MinMaxScaler()\n",
    "    class_weights_i = scaler.fit_transform(np.array(class_weights_i).reshape(-1, 1)).flatten()\n",
    "    class_weights[i] = class_weights_i\n",
    "\n",
    "print(len(class_weights))\n",
    "print(class_weights[0])"
   ]
  },
  {
   "cell_type": "code",
   "execution_count": 20,
   "id": "7ec3ac81",
   "metadata": {},
   "outputs": [],
   "source": [
    "import tensorflow.keras.backend as K\n",
    "\n",
    "# Define the hierarchy between classes\n",
    "hierarchy_dict = {0: [1], 2: [3]}\n",
    "\n",
    "# Define loss class weights for each class\n",
    "# This can be helpful when some classes have a greater or lesser impact than others\n",
    "class_loss_weights = [1.0, 1.0, 1.0, 1.0]\n",
    "\n",
    "# Define a list with the number of unique values of all classes\n",
    "num_classes = [num_classes_product, num_classes_sub_product, num_classes_issue, num_classes_sub_issue]\n",
    "\n",
    "# Define the custom loss function\n",
    "# The hierarchy dictionary should provide the associations between indexes of parent classes and corresponding sub classes.\n",
    "def hierarchical_softmax_loss(class_loss_weights, hierarchy_dict=None):\n",
    "    # Define the combined loss function for all output classes\n",
    "    def combined_loss(y_true, y_pred):\n",
    "        loss = 0\n",
    "        start_idx = 0\n",
    "        for parent_idx, subclass_idx_list in hierarchy_dict.items():\n",
    "            end_idx = start_idx + num_classes[parent_idx]\n",
    "            parent_loss = K.sparse_categorical_crossentropy(\n",
    "                y_true[:, parent_idx],\n",
    "                y_pred[:, start_idx:end_idx],\n",
    "                from_logits=False\n",
    "            )\n",
    "            loss += parent_loss * class_loss_weights[parent_idx]\n",
    "            start_idx = end_idx\n",
    "\n",
    "            # This will ensure that the loss of each subclass only counts if the corresponding parent class\n",
    "            # is correctly predicted, otherwise the model will fail to adjust its weights properly\n",
    "            parent_pred = K.argmax(y_pred[:, parent_idx])\n",
    "            if parent_pred == K.argmax(y_true[:, parent_idx]):\n",
    "                # Define the cross-entropy loss function for the subclass classes\n",
    "                for subclass_idx in subclass_idx_list:\n",
    "                    end_idx = start_idx + num_classes[subclass_idx]\n",
    "                    subclass_loss = K.sparse_categorical_crossentropy(\n",
    "                        y_true[:, subclass_idx],\n",
    "                        y_pred[:, start_idx:end_idx],\n",
    "                        from_logits=False\n",
    "                    )\n",
    "                    loss += subclass_loss * class_loss_weights[subclass_idx]\n",
    "                    start_idx = end_idx\n",
    "        return loss\n",
    "\n",
    "    return combined_loss\n",
    "\n",
    "\n",
    "# Compile the model with the custom loss function\n",
    "model.compile(\n",
    "    optimizer='adam',\n",
    "    loss=hierarchical_softmax_loss(class_loss_weights, hierarchy_dict),\n",
    "    metrics=['accuracy']\n",
    ")"
   ]
  },
  {
   "cell_type": "code",
   "execution_count": 21,
   "id": "c17a775b",
   "metadata": {},
   "outputs": [
    {
     "name": "stdout",
     "output_type": "stream",
     "text": [
      "Training started\n",
      "Epoch 1 starts\n",
      "Epoch 1/10\n",
      "Training batch 1 starts\n",
      "Training batch 1 ends\n",
      "   1/2406 [..............................] - ETA: 2:46:45 - loss: 7.9318 - accuracy: 0.0156Training batch 2 starts\n",
      "Training batch 2 ends\n",
      "   2/2406 [..............................] - ETA: 1:06:50 - loss: 7.9505 - accuracy: 0.0352Training batch 3 starts\n",
      "Training batch 3 ends\n",
      "   3/2406 [..............................] - ETA: 1:02:54 - loss: 7.9339 - accuracy: 0.0391Training batch 4 starts\n",
      "Training batch 4 ends\n",
      "   4/2406 [..............................] - ETA: 1:01:46 - loss: 7.9332 - accuracy: 0.0332Training batch 5 starts\n",
      "Training batch 5 ends\n",
      "   5/2406 [..............................] - ETA: 1:01:05 - loss: 7.9220 - accuracy: 0.0297Training batch 6 starts\n",
      "Training batch 6 ends\n",
      "   6/2406 [..............................] - ETA: 1:00:35 - loss: 7.9210 - accuracy: 0.0273Training batch 7 starts\n",
      "Training batch 7 ends\n",
      "   7/2406 [..............................] - ETA: 1:00:15 - loss: 7.9113 - accuracy: 0.0246Training batch 8 starts\n",
      "Training batch 8 ends\n",
      "   8/2406 [..............................] - ETA: 59:40 - loss: 7.9153 - accuracy: 0.0234  Training batch 9 starts\n",
      "Training batch 9 ends\n",
      "   9/2406 [..............................] - ETA: 59:21 - loss: 7.9228 - accuracy: 0.0217Training batch 10 starts\n",
      "Training batch 10 ends\n",
      "  10/2406 [..............................] - ETA: 58:59 - loss: 7.9144 - accuracy: 0.0211Training batch 11 starts\n",
      "Training batch 11 ends\n",
      "  11/2406 [..............................] - ETA: 58:35 - loss: 7.9109 - accuracy: 0.0199Training batch 12 starts\n",
      "Training batch 12 ends\n",
      "  12/2406 [..............................] - ETA: 58:21 - loss: 7.9094 - accuracy: 0.0189Training batch 13 starts\n",
      "Training batch 13 ends\n",
      "  13/2406 [..............................] - ETA: 58:20 - loss: 7.9088 - accuracy: 0.0174Training batch 14 starts\n",
      "Training batch 14 ends\n",
      "  14/2406 [..............................] - ETA: 58:29 - loss: 7.9073 - accuracy: 0.0162Training batch 15 starts\n",
      "Training batch 15 ends\n",
      "  15/2406 [..............................] - ETA: 58:28 - loss: 7.9057 - accuracy: 0.0156Training batch 16 starts\n",
      "Training batch 16 ends\n",
      "  16/2406 [..............................] - ETA: 58:32 - loss: 7.9015 - accuracy: 0.0146Training batch 17 starts\n",
      "Training batch 17 ends\n",
      "  17/2406 [..............................] - ETA: 58:37 - loss: 7.8968 - accuracy: 0.0138Training batch 18 starts\n",
      "Training batch 18 ends\n",
      "  18/2406 [..............................] - ETA: 58:45 - loss: 7.8932 - accuracy: 0.0135Training batch 19 starts\n",
      "Training batch 19 ends\n",
      "  19/2406 [..............................] - ETA: 58:47 - loss: 7.8890 - accuracy: 0.0132Training batch 20 starts\n",
      "Training batch 20 ends\n",
      "  20/2406 [..............................] - ETA: 58:49 - loss: 7.8856 - accuracy: 0.0129Training batch 21 starts\n",
      "Training batch 21 ends\n",
      "  21/2406 [..............................] - ETA: 58:52 - loss: 7.8860 - accuracy: 0.0123Training batch 22 starts\n",
      "Training batch 22 ends\n",
      "  22/2406 [..............................] - ETA: 59:06 - loss: 7.8847 - accuracy: 0.0121Training batch 23 starts\n",
      "Training batch 23 ends\n",
      "  23/2406 [..............................] - ETA: 59:17 - loss: 7.8808 - accuracy: 0.0119Training batch 24 starts\n"
     ]
    },
    {
     "ename": "KeyboardInterrupt",
     "evalue": "",
     "output_type": "error",
     "traceback": [
      "\u001b[1;31m---------------------------------------------------------------------------\u001b[0m",
      "\u001b[1;31mKeyboardInterrupt\u001b[0m                         Traceback (most recent call last)",
      "Cell \u001b[1;32mIn[21], line 8\u001b[0m\n\u001b[0;32m      6\u001b[0m \u001b[39m# Fit the model\u001b[39;00m\n\u001b[0;32m      7\u001b[0m \u001b[39mprint\u001b[39m(\u001b[39m\"\u001b[39m\u001b[39mTraining started\u001b[39m\u001b[39m\"\u001b[39m)\n\u001b[1;32m----> 8\u001b[0m history \u001b[39m=\u001b[39m model\u001b[39m.\u001b[39;49mfit(X_train, y_train,\n\u001b[0;32m      9\u001b[0m                     validation_data\u001b[39m=\u001b[39;49m(X_val, y_val),\n\u001b[0;32m     10\u001b[0m                     \u001b[39m#class_weight=class_weights,\u001b[39;49;00m\n\u001b[0;32m     11\u001b[0m                     batch_size\u001b[39m=\u001b[39;49mbatch_size,\n\u001b[0;32m     12\u001b[0m                     epochs\u001b[39m=\u001b[39;49mepochs,\n\u001b[0;32m     13\u001b[0m                     callbacks\u001b[39m=\u001b[39;49m[progress_tracker, early_stopping, lr_finder])\n\u001b[0;32m     14\u001b[0m \u001b[39mprint\u001b[39m(\u001b[39m\"\u001b[39m\u001b[39mTraining ended\u001b[39m\u001b[39m\"\u001b[39m)\n\u001b[0;32m     16\u001b[0m \u001b[39m# Save the pre-trained model to use for future predictions\u001b[39;00m\n\u001b[0;32m     17\u001b[0m \u001b[39m#model.save('multi_hierarchical_text_classification_model')\u001b[39;00m\n",
      "File \u001b[1;32mc:\\Users\\admin\\AppData\\Local\\Programs\\Python\\Python311\\Lib\\site-packages\\keras\\utils\\traceback_utils.py:65\u001b[0m, in \u001b[0;36mfilter_traceback.<locals>.error_handler\u001b[1;34m(*args, **kwargs)\u001b[0m\n\u001b[0;32m     63\u001b[0m filtered_tb \u001b[39m=\u001b[39m \u001b[39mNone\u001b[39;00m\n\u001b[0;32m     64\u001b[0m \u001b[39mtry\u001b[39;00m:\n\u001b[1;32m---> 65\u001b[0m     \u001b[39mreturn\u001b[39;00m fn(\u001b[39m*\u001b[39;49margs, \u001b[39m*\u001b[39;49m\u001b[39m*\u001b[39;49mkwargs)\n\u001b[0;32m     66\u001b[0m \u001b[39mexcept\u001b[39;00m \u001b[39mException\u001b[39;00m \u001b[39mas\u001b[39;00m e:\n\u001b[0;32m     67\u001b[0m     filtered_tb \u001b[39m=\u001b[39m _process_traceback_frames(e\u001b[39m.\u001b[39m__traceback__)\n",
      "File \u001b[1;32mc:\\Users\\admin\\AppData\\Local\\Programs\\Python\\Python311\\Lib\\site-packages\\keras\\engine\\training.py:1685\u001b[0m, in \u001b[0;36mModel.fit\u001b[1;34m(self, x, y, batch_size, epochs, verbose, callbacks, validation_split, validation_data, shuffle, class_weight, sample_weight, initial_epoch, steps_per_epoch, validation_steps, validation_batch_size, validation_freq, max_queue_size, workers, use_multiprocessing)\u001b[0m\n\u001b[0;32m   1677\u001b[0m \u001b[39mwith\u001b[39;00m tf\u001b[39m.\u001b[39mprofiler\u001b[39m.\u001b[39mexperimental\u001b[39m.\u001b[39mTrace(\n\u001b[0;32m   1678\u001b[0m     \u001b[39m\"\u001b[39m\u001b[39mtrain\u001b[39m\u001b[39m\"\u001b[39m,\n\u001b[0;32m   1679\u001b[0m     epoch_num\u001b[39m=\u001b[39mepoch,\n\u001b[1;32m   (...)\u001b[0m\n\u001b[0;32m   1682\u001b[0m     _r\u001b[39m=\u001b[39m\u001b[39m1\u001b[39m,\n\u001b[0;32m   1683\u001b[0m ):\n\u001b[0;32m   1684\u001b[0m     callbacks\u001b[39m.\u001b[39mon_train_batch_begin(step)\n\u001b[1;32m-> 1685\u001b[0m     tmp_logs \u001b[39m=\u001b[39m \u001b[39mself\u001b[39;49m\u001b[39m.\u001b[39;49mtrain_function(iterator)\n\u001b[0;32m   1686\u001b[0m     \u001b[39mif\u001b[39;00m data_handler\u001b[39m.\u001b[39mshould_sync:\n\u001b[0;32m   1687\u001b[0m         context\u001b[39m.\u001b[39masync_wait()\n",
      "File \u001b[1;32mc:\\Users\\admin\\AppData\\Local\\Programs\\Python\\Python311\\Lib\\site-packages\\tensorflow\\python\\util\\traceback_utils.py:150\u001b[0m, in \u001b[0;36mfilter_traceback.<locals>.error_handler\u001b[1;34m(*args, **kwargs)\u001b[0m\n\u001b[0;32m    148\u001b[0m filtered_tb \u001b[39m=\u001b[39m \u001b[39mNone\u001b[39;00m\n\u001b[0;32m    149\u001b[0m \u001b[39mtry\u001b[39;00m:\n\u001b[1;32m--> 150\u001b[0m   \u001b[39mreturn\u001b[39;00m fn(\u001b[39m*\u001b[39;49margs, \u001b[39m*\u001b[39;49m\u001b[39m*\u001b[39;49mkwargs)\n\u001b[0;32m    151\u001b[0m \u001b[39mexcept\u001b[39;00m \u001b[39mException\u001b[39;00m \u001b[39mas\u001b[39;00m e:\n\u001b[0;32m    152\u001b[0m   filtered_tb \u001b[39m=\u001b[39m _process_traceback_frames(e\u001b[39m.\u001b[39m__traceback__)\n",
      "File \u001b[1;32mc:\\Users\\admin\\AppData\\Local\\Programs\\Python\\Python311\\Lib\\site-packages\\tensorflow\\python\\eager\\polymorphic_function\\polymorphic_function.py:894\u001b[0m, in \u001b[0;36mFunction.__call__\u001b[1;34m(self, *args, **kwds)\u001b[0m\n\u001b[0;32m    891\u001b[0m compiler \u001b[39m=\u001b[39m \u001b[39m\"\u001b[39m\u001b[39mxla\u001b[39m\u001b[39m\"\u001b[39m \u001b[39mif\u001b[39;00m \u001b[39mself\u001b[39m\u001b[39m.\u001b[39m_jit_compile \u001b[39melse\u001b[39;00m \u001b[39m\"\u001b[39m\u001b[39mnonXla\u001b[39m\u001b[39m\"\u001b[39m\n\u001b[0;32m    893\u001b[0m \u001b[39mwith\u001b[39;00m OptionalXlaContext(\u001b[39mself\u001b[39m\u001b[39m.\u001b[39m_jit_compile):\n\u001b[1;32m--> 894\u001b[0m   result \u001b[39m=\u001b[39m \u001b[39mself\u001b[39;49m\u001b[39m.\u001b[39;49m_call(\u001b[39m*\u001b[39;49margs, \u001b[39m*\u001b[39;49m\u001b[39m*\u001b[39;49mkwds)\n\u001b[0;32m    896\u001b[0m new_tracing_count \u001b[39m=\u001b[39m \u001b[39mself\u001b[39m\u001b[39m.\u001b[39mexperimental_get_tracing_count()\n\u001b[0;32m    897\u001b[0m without_tracing \u001b[39m=\u001b[39m (tracing_count \u001b[39m==\u001b[39m new_tracing_count)\n",
      "File \u001b[1;32mc:\\Users\\admin\\AppData\\Local\\Programs\\Python\\Python311\\Lib\\site-packages\\tensorflow\\python\\eager\\polymorphic_function\\polymorphic_function.py:926\u001b[0m, in \u001b[0;36mFunction._call\u001b[1;34m(self, *args, **kwds)\u001b[0m\n\u001b[0;32m    923\u001b[0m   \u001b[39mself\u001b[39m\u001b[39m.\u001b[39m_lock\u001b[39m.\u001b[39mrelease()\n\u001b[0;32m    924\u001b[0m   \u001b[39m# In this case we have created variables on the first call, so we run the\u001b[39;00m\n\u001b[0;32m    925\u001b[0m   \u001b[39m# defunned version which is guaranteed to never create variables.\u001b[39;00m\n\u001b[1;32m--> 926\u001b[0m   \u001b[39mreturn\u001b[39;00m \u001b[39mself\u001b[39;49m\u001b[39m.\u001b[39;49m_no_variable_creation_fn(\u001b[39m*\u001b[39;49margs, \u001b[39m*\u001b[39;49m\u001b[39m*\u001b[39;49mkwds)  \u001b[39m# pylint: disable=not-callable\u001b[39;00m\n\u001b[0;32m    927\u001b[0m \u001b[39melif\u001b[39;00m \u001b[39mself\u001b[39m\u001b[39m.\u001b[39m_variable_creation_fn \u001b[39mis\u001b[39;00m \u001b[39mnot\u001b[39;00m \u001b[39mNone\u001b[39;00m:\n\u001b[0;32m    928\u001b[0m   \u001b[39m# Release the lock early so that multiple threads can perform the call\u001b[39;00m\n\u001b[0;32m    929\u001b[0m   \u001b[39m# in parallel.\u001b[39;00m\n\u001b[0;32m    930\u001b[0m   \u001b[39mself\u001b[39m\u001b[39m.\u001b[39m_lock\u001b[39m.\u001b[39mrelease()\n",
      "File \u001b[1;32mc:\\Users\\admin\\AppData\\Local\\Programs\\Python\\Python311\\Lib\\site-packages\\tensorflow\\python\\eager\\polymorphic_function\\tracing_compiler.py:143\u001b[0m, in \u001b[0;36mTracingCompiler.__call__\u001b[1;34m(self, *args, **kwargs)\u001b[0m\n\u001b[0;32m    140\u001b[0m \u001b[39mwith\u001b[39;00m \u001b[39mself\u001b[39m\u001b[39m.\u001b[39m_lock:\n\u001b[0;32m    141\u001b[0m   (concrete_function,\n\u001b[0;32m    142\u001b[0m    filtered_flat_args) \u001b[39m=\u001b[39m \u001b[39mself\u001b[39m\u001b[39m.\u001b[39m_maybe_define_function(args, kwargs)\n\u001b[1;32m--> 143\u001b[0m \u001b[39mreturn\u001b[39;00m concrete_function\u001b[39m.\u001b[39;49m_call_flat(\n\u001b[0;32m    144\u001b[0m     filtered_flat_args, captured_inputs\u001b[39m=\u001b[39;49mconcrete_function\u001b[39m.\u001b[39;49mcaptured_inputs)\n",
      "File \u001b[1;32mc:\\Users\\admin\\AppData\\Local\\Programs\\Python\\Python311\\Lib\\site-packages\\tensorflow\\python\\eager\\polymorphic_function\\monomorphic_function.py:1757\u001b[0m, in \u001b[0;36mConcreteFunction._call_flat\u001b[1;34m(self, args, captured_inputs, cancellation_manager)\u001b[0m\n\u001b[0;32m   1753\u001b[0m possible_gradient_type \u001b[39m=\u001b[39m gradients_util\u001b[39m.\u001b[39mPossibleTapeGradientTypes(args)\n\u001b[0;32m   1754\u001b[0m \u001b[39mif\u001b[39;00m (possible_gradient_type \u001b[39m==\u001b[39m gradients_util\u001b[39m.\u001b[39mPOSSIBLE_GRADIENT_TYPES_NONE\n\u001b[0;32m   1755\u001b[0m     \u001b[39mand\u001b[39;00m executing_eagerly):\n\u001b[0;32m   1756\u001b[0m   \u001b[39m# No tape is watching; skip to running the function.\u001b[39;00m\n\u001b[1;32m-> 1757\u001b[0m   \u001b[39mreturn\u001b[39;00m \u001b[39mself\u001b[39m\u001b[39m.\u001b[39m_build_call_outputs(\u001b[39mself\u001b[39;49m\u001b[39m.\u001b[39;49m_inference_function\u001b[39m.\u001b[39;49mcall(\n\u001b[0;32m   1758\u001b[0m       ctx, args, cancellation_manager\u001b[39m=\u001b[39;49mcancellation_manager))\n\u001b[0;32m   1759\u001b[0m forward_backward \u001b[39m=\u001b[39m \u001b[39mself\u001b[39m\u001b[39m.\u001b[39m_select_forward_and_backward_functions(\n\u001b[0;32m   1760\u001b[0m     args,\n\u001b[0;32m   1761\u001b[0m     possible_gradient_type,\n\u001b[0;32m   1762\u001b[0m     executing_eagerly)\n\u001b[0;32m   1763\u001b[0m forward_function, args_with_tangents \u001b[39m=\u001b[39m forward_backward\u001b[39m.\u001b[39mforward()\n",
      "File \u001b[1;32mc:\\Users\\admin\\AppData\\Local\\Programs\\Python\\Python311\\Lib\\site-packages\\tensorflow\\python\\eager\\polymorphic_function\\monomorphic_function.py:381\u001b[0m, in \u001b[0;36m_EagerDefinedFunction.call\u001b[1;34m(self, ctx, args, cancellation_manager)\u001b[0m\n\u001b[0;32m    379\u001b[0m \u001b[39mwith\u001b[39;00m _InterpolateFunctionError(\u001b[39mself\u001b[39m):\n\u001b[0;32m    380\u001b[0m   \u001b[39mif\u001b[39;00m cancellation_manager \u001b[39mis\u001b[39;00m \u001b[39mNone\u001b[39;00m:\n\u001b[1;32m--> 381\u001b[0m     outputs \u001b[39m=\u001b[39m execute\u001b[39m.\u001b[39;49mexecute(\n\u001b[0;32m    382\u001b[0m         \u001b[39mstr\u001b[39;49m(\u001b[39mself\u001b[39;49m\u001b[39m.\u001b[39;49msignature\u001b[39m.\u001b[39;49mname),\n\u001b[0;32m    383\u001b[0m         num_outputs\u001b[39m=\u001b[39;49m\u001b[39mself\u001b[39;49m\u001b[39m.\u001b[39;49m_num_outputs,\n\u001b[0;32m    384\u001b[0m         inputs\u001b[39m=\u001b[39;49margs,\n\u001b[0;32m    385\u001b[0m         attrs\u001b[39m=\u001b[39;49mattrs,\n\u001b[0;32m    386\u001b[0m         ctx\u001b[39m=\u001b[39;49mctx)\n\u001b[0;32m    387\u001b[0m   \u001b[39melse\u001b[39;00m:\n\u001b[0;32m    388\u001b[0m     outputs \u001b[39m=\u001b[39m execute\u001b[39m.\u001b[39mexecute_with_cancellation(\n\u001b[0;32m    389\u001b[0m         \u001b[39mstr\u001b[39m(\u001b[39mself\u001b[39m\u001b[39m.\u001b[39msignature\u001b[39m.\u001b[39mname),\n\u001b[0;32m    390\u001b[0m         num_outputs\u001b[39m=\u001b[39m\u001b[39mself\u001b[39m\u001b[39m.\u001b[39m_num_outputs,\n\u001b[1;32m   (...)\u001b[0m\n\u001b[0;32m    393\u001b[0m         ctx\u001b[39m=\u001b[39mctx,\n\u001b[0;32m    394\u001b[0m         cancellation_manager\u001b[39m=\u001b[39mcancellation_manager)\n",
      "File \u001b[1;32mc:\\Users\\admin\\AppData\\Local\\Programs\\Python\\Python311\\Lib\\site-packages\\tensorflow\\python\\eager\\execute.py:52\u001b[0m, in \u001b[0;36mquick_execute\u001b[1;34m(op_name, num_outputs, inputs, attrs, ctx, name)\u001b[0m\n\u001b[0;32m     50\u001b[0m \u001b[39mtry\u001b[39;00m:\n\u001b[0;32m     51\u001b[0m   ctx\u001b[39m.\u001b[39mensure_initialized()\n\u001b[1;32m---> 52\u001b[0m   tensors \u001b[39m=\u001b[39m pywrap_tfe\u001b[39m.\u001b[39;49mTFE_Py_Execute(ctx\u001b[39m.\u001b[39;49m_handle, device_name, op_name,\n\u001b[0;32m     53\u001b[0m                                       inputs, attrs, num_outputs)\n\u001b[0;32m     54\u001b[0m \u001b[39mexcept\u001b[39;00m core\u001b[39m.\u001b[39m_NotOkStatusException \u001b[39mas\u001b[39;00m e:\n\u001b[0;32m     55\u001b[0m   \u001b[39mif\u001b[39;00m name \u001b[39mis\u001b[39;00m \u001b[39mnot\u001b[39;00m \u001b[39mNone\u001b[39;00m:\n",
      "\u001b[1;31mKeyboardInterrupt\u001b[0m: "
     ]
    }
   ],
   "source": [
    "# Define hyperparameters\n",
    "batch_size = 128\n",
    "epochs = 10\n",
    "learning_rate = 0.001\n",
    "\n",
    "# Fit the model\n",
    "print(\"Training started\")\n",
    "history = model.fit(X_train, y_train,\n",
    "                    validation_data=(X_val, y_val),\n",
    "                    #class_weight=class_weights,\n",
    "                    batch_size=batch_size,\n",
    "                    epochs=epochs,\n",
    "                    callbacks=[progress_tracker, early_stopping, lr_finder])\n",
    "print(\"Training ended\")\n",
    "\n",
    "# Save the pre-trained model to use for future predictions\n",
    "#model.save('multi_hierarchical_text_classification_model')"
   ]
  },
  {
   "cell_type": "code",
   "execution_count": 134,
   "id": "e62d6194",
   "metadata": {},
   "outputs": [
    {
     "ename": "OSError",
     "evalue": "No file or directory found at multi_hierarchical_text_classification_model",
     "output_type": "error",
     "traceback": [
      "\u001b[1;31m---------------------------------------------------------------------------\u001b[0m",
      "\u001b[1;31mOSError\u001b[0m                                   Traceback (most recent call last)",
      "Cell \u001b[1;32mIn[134], line 4\u001b[0m\n\u001b[0;32m      1\u001b[0m \u001b[39mimport\u001b[39;00m \u001b[39mnumpy\u001b[39;00m \u001b[39mas\u001b[39;00m \u001b[39mnp\u001b[39;00m\n\u001b[0;32m      2\u001b[0m \u001b[39mfrom\u001b[39;00m \u001b[39mtensorflow\u001b[39;00m\u001b[39m.\u001b[39;00m\u001b[39mkeras\u001b[39;00m\u001b[39m.\u001b[39;00m\u001b[39mmodels\u001b[39;00m \u001b[39mimport\u001b[39;00m load_model\n\u001b[1;32m----> 4\u001b[0m model \u001b[39m=\u001b[39m load_model(\u001b[39m'\u001b[39;49m\u001b[39mmulti_hierarchical_text_classification_model\u001b[39;49m\u001b[39m'\u001b[39;49m)\n\u001b[0;32m      6\u001b[0m \u001b[39m# Make predictions on the test data\u001b[39;00m\n\u001b[0;32m      7\u001b[0m y_pred \u001b[39m=\u001b[39m model\u001b[39m.\u001b[39mpredict(X_test)\n",
      "File \u001b[1;32mc:\\Users\\admin\\Desktop\\AI\\2º Semestre\\3º Projeto\\.venv\\lib\\site-packages\\keras\\utils\\traceback_utils.py:67\u001b[0m, in \u001b[0;36mfilter_traceback.<locals>.error_handler\u001b[1;34m(*args, **kwargs)\u001b[0m\n\u001b[0;32m     65\u001b[0m \u001b[39mexcept\u001b[39;00m \u001b[39mException\u001b[39;00m \u001b[39mas\u001b[39;00m e:  \u001b[39m# pylint: disable=broad-except\u001b[39;00m\n\u001b[0;32m     66\u001b[0m   filtered_tb \u001b[39m=\u001b[39m _process_traceback_frames(e\u001b[39m.\u001b[39m__traceback__)\n\u001b[1;32m---> 67\u001b[0m   \u001b[39mraise\u001b[39;00m e\u001b[39m.\u001b[39mwith_traceback(filtered_tb) \u001b[39mfrom\u001b[39;00m \u001b[39mNone\u001b[39m\n\u001b[0;32m     68\u001b[0m \u001b[39mfinally\u001b[39;00m:\n\u001b[0;32m     69\u001b[0m   \u001b[39mdel\u001b[39;00m filtered_tb\n",
      "File \u001b[1;32mc:\\Users\\admin\\Desktop\\AI\\2º Semestre\\3º Projeto\\.venv\\lib\\site-packages\\keras\\saving\\save.py:209\u001b[0m, in \u001b[0;36mload_model\u001b[1;34m(filepath, custom_objects, compile, options)\u001b[0m\n\u001b[0;32m    207\u001b[0m \u001b[39mif\u001b[39;00m \u001b[39misinstance\u001b[39m(filepath, \u001b[39mstr\u001b[39m):\n\u001b[0;32m    208\u001b[0m   \u001b[39mif\u001b[39;00m \u001b[39mnot\u001b[39;00m tf\u001b[39m.\u001b[39mio\u001b[39m.\u001b[39mgfile\u001b[39m.\u001b[39mexists(filepath):\n\u001b[1;32m--> 209\u001b[0m     \u001b[39mraise\u001b[39;00m \u001b[39mIOError\u001b[39;00m(\u001b[39mf\u001b[39m\u001b[39m'\u001b[39m\u001b[39mNo file or directory found at \u001b[39m\u001b[39m{\u001b[39;00mfilepath\u001b[39m}\u001b[39;00m\u001b[39m'\u001b[39m)\n\u001b[0;32m    210\u001b[0m   \u001b[39mif\u001b[39;00m saving_utils\u001b[39m.\u001b[39mis_hdf5_filepath(filepath) \u001b[39mand\u001b[39;00m h5py \u001b[39mis\u001b[39;00m \u001b[39mNone\u001b[39;00m:\n\u001b[0;32m    211\u001b[0m     \u001b[39mraise\u001b[39;00m \u001b[39mImportError\u001b[39;00m(\n\u001b[0;32m    212\u001b[0m         \u001b[39m'\u001b[39m\u001b[39mFilepath looks like a hdf5 file but h5py is not available.\u001b[39m\u001b[39m'\u001b[39m\n\u001b[0;32m    213\u001b[0m         \u001b[39mf\u001b[39m\u001b[39m'\u001b[39m\u001b[39m filepath=\u001b[39m\u001b[39m{\u001b[39;00mfilepath\u001b[39m}\u001b[39;00m\u001b[39m'\u001b[39m)\n",
      "\u001b[1;31mOSError\u001b[0m: No file or directory found at multi_hierarchical_text_classification_model"
     ]
    }
   ],
   "source": [
    "import numpy as np\n",
    "from tensorflow.keras.models import load_model\n",
    "\n",
    "model = load_model('multi_hierarchical_text_classification_model')\n",
    "\n",
    "# Make predictions on the test data\n",
    "y_pred = model.predict(X_test)\n",
    "\n",
    "# Convert predicted values back to categorical labels\n",
    "y_pred_labels = []\n",
    "for i in range(len(y_pred)):\n",
    "    labels = []\n",
    "    for j in range(4):\n",
    "        labels.append(np.argmax(y_pred[i][j]))\n",
    "    y_pred_labels.append(labels)\n",
    "\n",
    "# Print the predicted labels for the first 10 test samples\n",
    "print(y_pred_labels[:10])"
   ]
  },
  {
   "cell_type": "code",
   "execution_count": null,
   "id": "65aa4ae4",
   "metadata": {},
   "outputs": [],
   "source": [
    "import matplotlib.pyplot as plt\n",
    "\n",
    "# Plot training & validation accuracy values over the number of epochs\n",
    "plt.plot(history.history['accuracy'])\n",
    "plt.plot(history.history['val_accuracy'])\n",
    "plt.title('Model accuracy')\n",
    "plt.ylabel('Accuracy')\n",
    "plt.xlabel('Epoch')\n",
    "plt.legend(['Train', 'Validation'], loc='upper left')\n",
    "plt.show()\n",
    "\n",
    "# Plot training & validation loss values over the number of epochs\n",
    "plt.plot(history.history['loss'])\n",
    "plt.plot(history.history['val_loss'])\n",
    "plt.title('Model loss')\n",
    "plt.ylabel('Loss')\n",
    "plt.xlabel('Epoch')\n",
    "plt.legend(['Train', 'Validation'], loc='upper left')\n",
    "plt.show()"
   ]
  }
 ],
 "metadata": {
  "kernelspec": {
   "display_name": "Python 3",
   "language": "python",
   "name": "python3"
  },
  "language_info": {
   "codemirror_mode": {
    "name": "ipython",
    "version": 3
   },
   "file_extension": ".py",
   "mimetype": "text/x-python",
   "name": "python",
   "nbconvert_exporter": "python",
   "pygments_lexer": "ipython3",
   "version": "3.11.2"
  },
  "vscode": {
   "interpreter": {
    "hash": "1682e5d06a6d97c1b1cf6bb4ae6cf16223e994936ddb1d53664597d7d46101fa"
   }
  }
 },
 "nbformat": 4,
 "nbformat_minor": 5
}
