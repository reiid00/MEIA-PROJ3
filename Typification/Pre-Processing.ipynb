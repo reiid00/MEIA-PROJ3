{
 "cells": [
  {
   "cell_type": "code",
   "execution_count": 1,
   "id": "a016b6a3",
   "metadata": {},
   "outputs": [],
   "source": [
    "%%capture\n",
    "%pip install pandas"
   ]
  },
  {
   "cell_type": "code",
   "execution_count": 5,
   "id": "b5d0c6d8",
   "metadata": {},
   "outputs": [],
   "source": [
    "import pandas as pd"
   ]
  },
  {
   "cell_type": "code",
   "execution_count": 11,
   "id": "2ae86728",
   "metadata": {},
   "outputs": [
    {
     "name": "stdout",
     "output_type": "stream",
     "text": [
      "  Date received           Product Sub-product  \\\n",
      "0    08/09/2015  Credit reporting         NaN   \n",
      "\n",
      "                                    Issue                Sub-issue  \\\n",
      "0  Incorrect information on credit report  Information is not mine   \n",
      "\n",
      "  Consumer complaint narrative  \\\n",
      "0                          NaN   \n",
      "\n",
      "                            Company public response  \\\n",
      "0  Company chooses not to provide a public response   \n",
      "\n",
      "                               Company State ZIP code Tags  \\\n",
      "0  Experian Information Solutions Inc.    NJ    08872  NaN   \n",
      "\n",
      "  Consumer consent provided? Submitted via Date sent to company  \\\n",
      "0       Consent not provided           Web           08/09/2015   \n",
      "\n",
      "      Company response to consumer Timely response? Consumer disputed?  \\\n",
      "0  Closed with non-monetary relief              Yes                 No   \n",
      "\n",
      "   Complaint ID  \n",
      "0       1509954  \n"
     ]
    }
   ],
   "source": [
    "# Import the dataset with consumer complaints\n",
    "dataset_CC = pd.read_csv(\"C:\\\\Users\\\\admin\\\\Downloads\\\\complaint_data.csv\")\n",
    "\n",
    "print(dataset_CC.head(1))"
   ]
  },
  {
   "cell_type": "code",
   "execution_count": 13,
   "id": "034dfc0c",
   "metadata": {},
   "outputs": [
    {
     "name": "stdout",
     "output_type": "stream",
     "text": [
      "Tags                            86.372494\n",
      "Consumer complaint narrative    67.312263\n",
      "Company public response         62.758958\n",
      "Consumer disputed?              47.785178\n",
      "Consumer consent provided?      41.390955\n",
      "Sub-issue                       37.710003\n",
      "Sub-product                     15.978423\n",
      "ZIP code                         9.321115\n",
      "State                            1.663308\n",
      "Company response to consumer     0.000068\n",
      "Date sent to company             0.000000\n",
      "Timely response?                 0.000000\n",
      "Date received                    0.000000\n",
      "Submitted via                    0.000000\n",
      "Product                          0.000000\n",
      "Company                          0.000000\n",
      "Issue                            0.000000\n",
      "Complaint ID                     0.000000\n",
      "dtype: float64\n"
     ]
    }
   ],
   "source": [
    "# Verify lines with empty columns\n",
    "# It is important to mention that there are 4 relevant category columns, namely 'Product', 'Sub-product', 'Issue' and 'Sub-issue'\n",
    "percent_missing = dataset_CC.isnull().sum() * 100 / len(dataset_CC)\n",
    "print(percent_missing.sort_values(ascending=False).head(20))"
   ]
  },
  {
   "cell_type": "code",
   "execution_count": 14,
   "id": "30116831",
   "metadata": {},
   "outputs": [
    {
     "name": "stdout",
     "output_type": "stream",
     "text": [
      "  Date received      Product Sub-product             Issue Sub-issue  \\\n",
      "4    03/04/2016  Credit card         NaN  Billing disputes       NaN   \n",
      "\n",
      "                        Consumer complaint narrative Company public response  \\\n",
      "4  I am dissatisfied with the current outcome of ...                     NaN   \n",
      "\n",
      "         Company State ZIP code Tags Consumer consent provided? Submitted via  \\\n",
      "4  DISCOVER BANK    NV    891XX  NaN           Consent provided           Web   \n",
      "\n",
      "  Date sent to company Company response to consumer Timely response?  \\\n",
      "4           03/04/2016      Closed with explanation              Yes   \n",
      "\n",
      "  Consumer disputed?  Complaint ID  \n",
      "4                Yes       1816726  \n"
     ]
    }
   ],
   "source": [
    "# Delete all lines without consumer narrative which is the text associated with the ticket\n",
    "# This step is crucial because we are gonna use this text to infer the previously mentioned categories.\n",
    "dataset_CC = dataset_CC.dropna(subset=['Consumer complaint narrative'])\n",
    "print(dataset_CC.head(1))"
   ]
  }
 ],
 "metadata": {
  "kernelspec": {
   "display_name": "Python 3 (ipykernel)",
   "language": "python",
   "name": "python3"
  },
  "language_info": {
   "codemirror_mode": {
    "name": "ipython",
    "version": 3
   },
   "file_extension": ".py",
   "mimetype": "text/x-python",
   "name": "python",
   "nbconvert_exporter": "python",
   "pygments_lexer": "ipython3",
   "version": "3.11.2"
  }
 },
 "nbformat": 4,
 "nbformat_minor": 5
}
