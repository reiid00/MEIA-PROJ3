{
 "cells": [
  {
   "cell_type": "code",
   "execution_count": 1,
   "id": "a016b6a3",
   "metadata": {},
   "outputs": [],
   "source": [
    "%%capture\n",
    "%pip install pandas"
   ]
  },
  {
   "cell_type": "code",
   "execution_count": 2,
   "id": "b5d0c6d8",
   "metadata": {},
   "outputs": [],
   "source": [
    "import pandas as pd"
   ]
  },
  {
   "cell_type": "code",
   "execution_count": 33,
   "id": "2ae86728",
   "metadata": {},
   "outputs": [
    {
     "name": "stdout",
     "output_type": "stream",
     "text": [
      "                                                                             0  \\\n",
      "Date received                                                       08/09/2015   \n",
      "Product                                                       Credit reporting   \n",
      "Sub-product                                                                NaN   \n",
      "Issue                                   Incorrect information on credit report   \n",
      "Sub-issue                                              Information is not mine   \n",
      "Consumer complaint narrative                                               NaN   \n",
      "Company public response       Company chooses not to provide a public response   \n",
      "Company                                    Experian Information Solutions Inc.   \n",
      "State                                                                       NJ   \n",
      "ZIP code                                                                 08872   \n",
      "Tags                                                                       NaN   \n",
      "Consumer consent provided?                                Consent not provided   \n",
      "Submitted via                                                              Web   \n",
      "Date sent to company                                                08/09/2015   \n",
      "Company response to consumer                   Closed with non-monetary relief   \n",
      "Timely response?                                                           Yes   \n",
      "Consumer disputed?                                                          No   \n",
      "Complaint ID                                                           1509954   \n",
      "\n",
      "                                                                        1  \n",
      "Date received                                                  12/23/2019  \n",
      "Product                                                      Student loan  \n",
      "Sub-product                                Federal student loan servicing  \n",
      "Issue                                Dealing with your lender or servicer  \n",
      "Sub-issue                     Trouble with how payments are being handled  \n",
      "Consumer complaint narrative                                          NaN  \n",
      "Company public response                                               NaN  \n",
      "Company                                                         AES/PHEAA  \n",
      "State                                                                  MA  \n",
      "ZIP code                                                            019XX  \n",
      "Tags                                                                  NaN  \n",
      "Consumer consent provided?                                            NaN  \n",
      "Submitted via                                                         Web  \n",
      "Date sent to company                                           12/23/2019  \n",
      "Company response to consumer                      Closed with explanation  \n",
      "Timely response?                                                      Yes  \n",
      "Consumer disputed?                                                    NaN  \n",
      "Complaint ID                                                      3475943  \n"
     ]
    }
   ],
   "source": [
    "# Import the dataset with consumer complaints\n",
    "dataset_CC = pd.read_csv(\"C:\\\\Users\\\\admin\\\\Downloads\\\\complaint_data.csv\")\n",
    "\n",
    "# Show columns as rows for better comprehension\n",
    "print(dataset_CC.head(1).T)"
   ]
  },
  {
   "cell_type": "code",
   "execution_count": 36,
   "id": "034dfc0c",
   "metadata": {},
   "outputs": [
    {
     "name": "stdout",
     "output_type": "stream",
     "text": [
      "Tags                            86.37\n",
      "Consumer complaint narrative    67.31\n",
      "Company public response         62.76\n",
      "Consumer disputed?              47.79\n",
      "Consumer consent provided?      41.39\n",
      "Sub-issue                       37.71\n",
      "Sub-product                     15.98\n",
      "ZIP code                         9.32\n",
      "State                            1.66\n",
      "Date sent to company             0.00\n",
      "Timely response?                 0.00\n",
      "Company response to consumer     0.00\n",
      "Date received                    0.00\n",
      "Submitted via                    0.00\n",
      "Product                          0.00\n",
      "Company                          0.00\n",
      "Issue                            0.00\n",
      "Complaint ID                     0.00\n",
      "dtype: float64\n"
     ]
    }
   ],
   "source": [
    "# Verify lines with empty columns\n",
    "# It is important to mention that there are 4 relevant category columns, namely 'Product', 'Sub-product', 'Issue' and 'Sub-issue'\n",
    "percent_missing = round(dataset_CC.isnull().sum() * 100 / len(dataset_CC), 2)\n",
    "print(percent_missing.sort_values(ascending=False).head(20))"
   ]
  },
  {
   "cell_type": "code",
   "execution_count": 38,
   "id": "30116831",
   "metadata": {},
   "outputs": [
    {
     "name": "stdout",
     "output_type": "stream",
     "text": [
      "Length: 481087\n",
      "\n",
      "New Length: 481087\n",
      "\n",
      "  Date received      Product Sub-product             Issue Sub-issue  \\\n",
      "4    03/04/2016  Credit card         NaN  Billing disputes       NaN   \n",
      "\n",
      "                        Consumer complaint narrative Company public response  \\\n",
      "4  I am dissatisfied with the current outcome of ...                     NaN   \n",
      "\n",
      "         Company State ZIP code Tags Consumer consent provided? Submitted via  \\\n",
      "4  DISCOVER BANK    NV    891XX  NaN           Consent provided           Web   \n",
      "\n",
      "  Date sent to company Company response to consumer Timely response?  \\\n",
      "4           03/04/2016      Closed with explanation              Yes   \n",
      "\n",
      "  Consumer disputed?  Complaint ID  \n",
      "4                Yes       1816726  \n"
     ]
    }
   ],
   "source": [
    "# Delete all lines without consumer complaint narrative which is the text associated with the ticket\n",
    "# This step is crucial because we are gonna use this text to infer the previously mentioned categories.\n",
    "print(f\"Length: {len(dataset_CC)}\\n\")\n",
    "\n",
    "dataset_CC = dataset_CC.dropna(subset=['Consumer complaint narrative'])\n",
    "print(f\"New Length: {len(dataset_CC)}\\n\")\n",
    "print(dataset_CC.head(1))"
   ]
  },
  {
   "cell_type": "code",
   "execution_count": 9,
   "id": "85d5985e",
   "metadata": {},
   "outputs": [
    {
     "name": "stdout",
     "output_type": "stream",
     "text": [
      "[nan\n",
      " 'Company has responded to the consumer and the CFPB and chooses not to provide a public response'\n",
      " 'Company believes complaint caused principally by actions of third party outside the control or direction of the company'\n",
      " 'Company chooses not to provide a public response'\n",
      " 'Company disputes the facts presented in the complaint'\n",
      " 'Company believes the complaint is the result of a misunderstanding'\n",
      " 'Company believes it acted appropriately as authorized by contract or law'\n",
      " \"Company can't verify or dispute the facts in the complaint\"\n",
      " 'Company believes complaint is the result of an isolated error'\n",
      " 'Company believes complaint represents an opportunity for improvement to better serve consumers'\n",
      " 'Company believes complaint relates to a discontinued policy or procedure']\n"
     ]
    }
   ],
   "source": [
    "# Analyse the unique company public responses\n",
    "print(dataset_CC['Company public response'].unique())"
   ]
  },
  {
   "cell_type": "code",
   "execution_count": 8,
   "id": "84f990c5",
   "metadata": {},
   "outputs": [
    {
     "name": "stdout",
     "output_type": "stream",
     "text": [
      "['Closed with explanation' 'Closed with monetary relief'\n",
      " 'Closed with non-monetary relief' 'Untimely response' 'Closed' nan]\n"
     ]
    }
   ],
   "source": [
    "# Analyse the unique company responses to consumers\n",
    "print(dataset_CC['Company response to consumer'].unique())"
   ]
  },
  {
   "cell_type": "code",
   "execution_count": 39,
   "id": "e363ff44",
   "metadata": {},
   "outputs": [
    {
     "name": "stdout",
     "output_type": "stream",
     "text": [
      "Product                                                                       Sub-product                                 Issue                                                                             Sub-issue                                                                            \n",
      "Credit reporting, credit repair services, or other personal consumer reports  Credit reporting                            Incorrect information on your report                                              Information belongs to someone else                                                      30960\n",
      "                                                                                                                          Problem with a credit reporting company's investigation into an existing problem  Their investigation did not fix an error on your report                                  26321\n",
      "                                                                                                                          Incorrect information on your report                                              Account status incorrect                                                                 14457\n",
      "                                                                                                                                                                                                            Account information incorrect                                                            14120\n",
      "                                                                                                                          Improper use of your report                                                       Credit inquiries on your report that you don't recognize                                 12836\n",
      "                                                                                                                                                                                                            Reporting company used your report improperly                                             6051\n",
      "Debt collection                                                               Other debt                                  Attempts to collect debt not owed                                                 Debt is not yours                                                                         5007\n",
      "Credit reporting, credit repair services, or other personal consumer reports  Credit reporting                            Incorrect information on your report                                              Old information reappears or never goes away                                              4036\n",
      "Credit card or prepaid card                                                   General-purpose credit card or charge card  Problem with a purchase shown on your statement                                   Credit card company isn't resolving a dispute about a purchase on your statement          3955\n",
      "Debt collection                                                               I do not know                               Attempts to collect debt not owed                                                 Debt is not yours                                                                         3747\n",
      "Credit reporting, credit repair services, or other personal consumer reports  Credit reporting                            Incorrect information on your report                                              Personal information incorrect                                                            3706\n",
      "Debt collection                                                               Other (i.e. phone, health club, etc.)       Cont'd attempts collect debt not owed                                             Debt is not mine                                                                          3501\n",
      "Credit reporting, credit repair services, or other personal consumer reports  Credit reporting                            Incorrect information on your report                                              Public record information inaccurate                                                      3500\n",
      "Debt collection                                                               I do not know                               Cont'd attempts collect debt not owed                                             Debt is not mine                                                                          3234\n",
      "Credit reporting, credit repair services, or other personal consumer reports  Credit reporting                            Problem with a credit reporting company's investigation into an existing problem  Investigation took more than 30 days                                                      2963\n",
      "Debt collection                                                               Medical debt                                Attempts to collect debt not owed                                                 Debt is not yours                                                                         2755\n",
      "Credit reporting, credit repair services, or other personal consumer reports  Credit reporting                            Problem with a credit reporting company's investigation into an existing problem  Difficulty submitting a dispute or getting information about a dispute over the phone     2734\n",
      "                                                                                                                                                                                                            Was not notified of investigation status or results                                       2465\n",
      "Student loan                                                                  Federal student loan servicing              Dealing with your lender or servicer                                              Received bad information about your loan                                                  2453\n",
      "Checking or savings account                                                   Checking account                            Managing an account                                                               Deposits and withdrawals                                                                  2423\n",
      "Debt collection                                                               I do not know                               Communication tactics                                                             Frequent or repeated calls                                                                2276\n",
      "                                                                              Other debt                                  Attempts to collect debt not owed                                                 Debt was paid                                                                             2259\n",
      "Student loan                                                                  Federal student loan servicing              Dealing with your lender or servicer                                              Trouble with how payments are being handled                                               2220\n",
      "Credit reporting, credit repair services, or other personal consumer reports  Credit reporting                            Problem with a credit reporting company's investigation into an existing problem  Problem with personal statement of dispute                                                2146\n",
      "Debt collection                                                               Other debt                                  Written notification about debt                                                   Didn't receive enough information to verify debt                                          2128\n",
      "dtype: int64\n"
     ]
    }
   ],
   "source": [
    "# Get unique combinations of category columns\n",
    "support_guide = dataset_CC[['Product', 'Sub-product', 'Issue', 'Sub-issue']].value_counts()\n",
    "\n",
    "print(support_guide.head(25))"
   ]
  },
  {
   "cell_type": "code",
   "execution_count": null,
   "id": "f968deb6",
   "metadata": {},
   "outputs": [],
   "source": []
  }
 ],
 "metadata": {
  "kernelspec": {
   "display_name": "Python 3 (ipykernel)",
   "language": "python",
   "name": "python3"
  },
  "language_info": {
   "codemirror_mode": {
    "name": "ipython",
    "version": 3
   },
   "file_extension": ".py",
   "mimetype": "text/x-python",
   "name": "python",
   "nbconvert_exporter": "python",
   "pygments_lexer": "ipython3",
   "version": "3.11.2"
  }
 },
 "nbformat": 4,
 "nbformat_minor": 5
}
