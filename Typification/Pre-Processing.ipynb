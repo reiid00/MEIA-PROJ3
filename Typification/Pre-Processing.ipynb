{
 "cells": [
  {
   "cell_type": "code",
   "execution_count": 6,
   "id": "2ae86728",
   "metadata": {},
   "outputs": [
    {
     "name": "stdout",
     "output_type": "stream",
     "text": [
      "0         Company chooses not to provide a public response\n",
      "7        Company has responded to the consumer and the ...\n",
      "9        Company believes complaint caused principally ...\n",
      "26       Company believes it acted appropriately as aut...\n",
      "81       Company believes complaint is the result of an...\n",
      "94       Company disputes the facts presented in the co...\n",
      "102      Company believes the complaint is the result o...\n",
      "212      Company can't verify or dispute the facts in t...\n",
      "610      Company believes complaint represents an oppor...\n",
      "17896    Company believes complaint relates to a discon...\n",
      "Name: Company public response, dtype: object\n"
     ]
    }
   ],
   "source": [
    "# carregar o primeiro ficheiro\n",
    "import pandas as pd\n",
    "Consumer_Complaints = pd.read_csv(\"complaint_data.csv\")\n",
    "#display(hugo)\n",
    "print(Consumer_Complaints['Company public response'].dropna().drop_duplicates())"
   ]
  },
  {
   "cell_type": "code",
   "execution_count": 14,
   "id": "a941f1e0",
   "metadata": {},
   "outputs": [
    {
     "name": "stdout",
     "output_type": "stream",
     "text": [
      "Date received                   1471766\n",
      "Product                         1471766\n",
      "Sub-product                     1236601\n",
      "Issue                           1471766\n",
      "Sub-issue                        916763\n",
      "Consumer complaint narrative     481087\n",
      "Company public response          548101\n",
      "Company                         1471766\n",
      "State                           1447286\n",
      "ZIP code                        1334581\n",
      "Tags                             200565\n",
      "Consumer consent provided?       862588\n",
      "Submitted via                   1471766\n",
      "Date sent to company            1471766\n",
      "Company response to consumer    1471765\n",
      "Timely response?                1471766\n",
      "Consumer disputed?               768480\n",
      "Complaint ID                    1471766\n",
      "dtype: int64\n"
     ]
    }
   ],
   "source": [
    "# verificamos quantos produtos existem\n",
    "print(Consumer_Complaints.count())"
   ]
  },
  {
   "cell_type": "code",
   "execution_count": 12,
   "id": "6fdbdfc8",
   "metadata": {},
   "outputs": [
    {
     "name": "stdout",
     "output_type": "stream",
     "text": [
      "Date received                   1471766\n",
      "Product                         1471766\n",
      "Sub-product                     1236601\n",
      "Issue                           1471766\n",
      "Sub-issue                        916763\n",
      "Consumer complaint narrative     481087\n",
      "Company public response          548101\n",
      "Company                         1471766\n",
      "State                           1447286\n",
      "ZIP code                        1334581\n",
      "Tags                             200565\n",
      "Consumer consent provided?       862588\n",
      "Submitted via                   1471766\n",
      "Date sent to company            1471766\n",
      "Company response to consumer    1471765\n",
      "Timely response?                1471766\n",
      "Consumer disputed?               768480\n",
      "Complaint ID                    1471766\n",
      "dtype: int64\n"
     ]
    }
   ],
   "source": [
    "# verificamos se existem produtos vazios, se sim, apagamos as respetivas linhas \n",
    "\n",
    "Consumer_ComplaintsWithEmptyProduct = Consumer_Complaints.dropna(subset=['Product'])\n",
    "print(Consumer_ComplaintsWithEmptyProduct.count())"
   ]
  },
  {
   "cell_type": "code",
   "execution_count": 13,
   "id": "30116831",
   "metadata": {},
   "outputs": [
    {
     "name": "stdout",
     "output_type": "stream",
     "text": [
      "Date received                   481087\n",
      "Product                         481087\n",
      "Sub-product                     428915\n",
      "Issue                           481087\n",
      "Sub-issue                       354395\n",
      "Consumer complaint narrative    481087\n",
      "Company public response         233742\n",
      "Company                         481087\n",
      "State                           479236\n",
      "ZIP code                        372936\n",
      "Tags                             82499\n",
      "Consumer consent provided?      481087\n",
      "Submitted via                   481087\n",
      "Date sent to company            481087\n",
      "Company response to consumer    481086\n",
      "Timely response?                481087\n",
      "Consumer disputed?              164067\n",
      "Complaint ID                    481087\n",
      "dtype: int64\n"
     ]
    }
   ],
   "source": [
    "# verificamos e apagamos todos as linhas do dataframe que nao tiverem resposta por parte do utilizador\n",
    "\n",
    "Consumer_ComplaintsWithoutEmptyComsumerComplaintNarrative = Consumer_Complaints.dropna(subset=['Consumer complaint narrative'])\n",
    "print(Consumer_ComplaintsWithoutEmptyComsumerComplaintNarrative.count())"
   ]
  },
  {
   "cell_type": "code",
   "execution_count": null,
   "id": "4f744e33",
   "metadata": {},
   "outputs": [],
   "source": []
  }
 ],
 "metadata": {
  "kernelspec": {
   "display_name": "Python 3 (ipykernel)",
   "language": "python",
   "name": "python3"
  },
  "language_info": {
   "codemirror_mode": {
    "name": "ipython",
    "version": 3
   },
   "file_extension": ".py",
   "mimetype": "text/x-python",
   "name": "python",
   "nbconvert_exporter": "python",
   "pygments_lexer": "ipython3",
   "version": "3.9.13"
  }
 },
 "nbformat": 4,
 "nbformat_minor": 5
}
