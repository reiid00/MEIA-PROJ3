{
 "cells": [
  {
   "cell_type": "code",
   "execution_count": 1,
   "id": "a016b6a3",
   "metadata": {},
   "outputs": [],
   "source": [
    "%%capture\n",
    "%pip install pandas"
   ]
  },
  {
   "cell_type": "code",
   "execution_count": 2,
   "id": "b5d0c6d8",
   "metadata": {},
   "outputs": [],
   "source": [
    "import pandas as pd"
   ]
  },
  {
   "cell_type": "code",
   "execution_count": 10,
   "id": "2ae86728",
   "metadata": {},
   "outputs": [
    {
     "name": "stdout",
     "output_type": "stream",
     "text": [
      "                                                                             0\n",
      "Date received                                                       08/09/2015\n",
      "Product                                                       Credit reporting\n",
      "Sub-product                                                                NaN\n",
      "Issue                                   Incorrect information on credit report\n",
      "Sub-issue                                              Information is not mine\n",
      "Consumer complaint narrative                                               NaN\n",
      "Company public response       Company chooses not to provide a public response\n",
      "Company                                    Experian Information Solutions Inc.\n",
      "State                                                                       NJ\n",
      "ZIP code                                                                 08872\n",
      "Tags                                                                       NaN\n",
      "Consumer consent provided?                                Consent not provided\n",
      "Submitted via                                                              Web\n",
      "Date sent to company                                                08/09/2015\n",
      "Company response to consumer                   Closed with non-monetary relief\n",
      "Timely response?                                                           Yes\n",
      "Consumer disputed?                                                          No\n",
      "Complaint ID                                                           1509954\n"
     ]
    }
   ],
   "source": [
    "# Import the dataset with consumer complaints\n",
    "dataset_CC = pd.read_csv(\"C:\\\\Users\\\\admin\\\\Downloads\\\\complaint_data.csv\")\n",
    "\n",
    "# Show columns as rows for better comprehension\n",
    "print(dataset_CC.head(1).T)"
   ]
  },
  {
   "cell_type": "code",
   "execution_count": 11,
   "id": "034dfc0c",
   "metadata": {},
   "outputs": [
    {
     "name": "stdout",
     "output_type": "stream",
     "text": [
      "Tags                            86.37\n",
      "Consumer complaint narrative    67.31\n",
      "Company public response         62.76\n",
      "Consumer disputed?              47.79\n",
      "Consumer consent provided?      41.39\n",
      "Sub-issue                       37.71\n",
      "Sub-product                     15.98\n",
      "ZIP code                         9.32\n",
      "State                            1.66\n",
      "Date sent to company             0.00\n",
      "Timely response?                 0.00\n",
      "Company response to consumer     0.00\n",
      "Date received                    0.00\n",
      "Submitted via                    0.00\n",
      "Product                          0.00\n",
      "Company                          0.00\n",
      "Issue                            0.00\n",
      "Complaint ID                     0.00\n",
      "dtype: float64\n"
     ]
    }
   ],
   "source": [
    "# Verify lines with empty columns\n",
    "# It is important to mention that there are 4 relevant category columns, namely 'Product', 'Sub-product', 'Issue' and 'Sub-issue'\n",
    "percent_missing = round(dataset_CC.isnull().sum() * 100 / len(dataset_CC), 2)\n",
    "print(percent_missing.sort_values(ascending=False).head(20))"
   ]
  },
  {
   "cell_type": "code",
   "execution_count": 12,
   "id": "30116831",
   "metadata": {},
   "outputs": [
    {
     "name": "stdout",
     "output_type": "stream",
     "text": [
      "Raw Length: 1471766\n",
      "\n",
      "New Length: 481087\n",
      "\n",
      "  Date received      Product Sub-product             Issue Sub-issue  \\\n",
      "4    03/04/2016  Credit card         NaN  Billing disputes       NaN   \n",
      "\n",
      "                        Consumer complaint narrative Company public response  \\\n",
      "4  I am dissatisfied with the current outcome of ...                     NaN   \n",
      "\n",
      "         Company State ZIP code Tags Consumer consent provided? Submitted via  \\\n",
      "4  DISCOVER BANK    NV    891XX  NaN           Consent provided           Web   \n",
      "\n",
      "  Date sent to company Company response to consumer Timely response?  \\\n",
      "4           03/04/2016      Closed with explanation              Yes   \n",
      "\n",
      "  Consumer disputed?  Complaint ID  \n",
      "4                Yes       1816726  \n"
     ]
    }
   ],
   "source": [
    "# Delete all lines without consumer complaint narrative which is the text associated with the ticket\n",
    "# This step is crucial because we are gonna use this text to infer the previously mentioned categories.\n",
    "print(f\"Raw Length: {len(dataset_CC)}\\n\")\n",
    "\n",
    "dataset_CC = dataset_CC.dropna(subset=['Consumer complaint narrative'])\n",
    "print(f\"New Length: {len(dataset_CC)}\\n\")\n",
    "print(dataset_CC.head(1))"
   ]
  },
  {
   "cell_type": "code",
   "execution_count": 13,
   "id": "85d5985e",
   "metadata": {},
   "outputs": [
    {
     "name": "stdout",
     "output_type": "stream",
     "text": [
      "[nan\n",
      " 'Company has responded to the consumer and the CFPB and chooses not to provide a public response'\n",
      " 'Company believes complaint caused principally by actions of third party outside the control or direction of the company'\n",
      " 'Company chooses not to provide a public response'\n",
      " 'Company disputes the facts presented in the complaint'\n",
      " 'Company believes the complaint is the result of a misunderstanding'\n",
      " 'Company believes it acted appropriately as authorized by contract or law'\n",
      " \"Company can't verify or dispute the facts in the complaint\"\n",
      " 'Company believes complaint is the result of an isolated error'\n",
      " 'Company believes complaint represents an opportunity for improvement to better serve consumers'\n",
      " 'Company believes complaint relates to a discontinued policy or procedure']\n"
     ]
    }
   ],
   "source": [
    "# Analyse the unique company public responses\n",
    "print(dataset_CC['Company public response'].unique())"
   ]
  },
  {
   "cell_type": "code",
   "execution_count": 27,
   "id": "84f990c5",
   "metadata": {},
   "outputs": [
    {
     "name": "stdout",
     "output_type": "stream",
     "text": [
      "Unique Company Responses to Consumers: 6\n",
      "\n",
      "['Closed with explanation' 'Closed with monetary relief'\n",
      " 'Closed with non-monetary relief' 'Untimely response' 'Closed' nan]\n"
     ]
    }
   ],
   "source": [
    "# Analyse the unique company responses to consumers\n",
    "unique_company_responses_to_consumers = dataset_CC['Company response to consumer'].unique()\n",
    "print(f\"Unique Company Responses to Consumers: {len(unique_company_responses_to_consumers)}\\n\")\n",
    "print(unique_company_responses_to_consumers[:10])"
   ]
  },
  {
   "cell_type": "code",
   "execution_count": 28,
   "id": "84a67cac",
   "metadata": {},
   "outputs": [
    {
     "name": "stdout",
     "output_type": "stream",
     "text": [
      "Unique Products: 18\n",
      "\n",
      "['Credit card'\n",
      " 'Credit reporting, credit repair services, or other personal consumer reports'\n",
      " 'Debt collection' 'Credit card or prepaid card' 'Mortgage'\n",
      " 'Bank account or service' 'Credit reporting' 'Student loan'\n",
      " 'Checking or savings account' 'Vehicle loan or lease']\n"
     ]
    }
   ],
   "source": [
    "# Analyse the unique values for category 'Product'\n",
    "unique_products = dataset_CC['Product'].unique()\n",
    "print(f\"Unique Products: {len(unique_products)}\\n\")\n",
    "print(unique_products[:10])"
   ]
  },
  {
   "cell_type": "code",
   "execution_count": 29,
   "id": "b578a605",
   "metadata": {},
   "outputs": [
    {
     "name": "stdout",
     "output_type": "stream",
     "text": [
      "Unique Sub-products: 76\n",
      "\n",
      "[nan 'Credit reporting' 'I do not know'\n",
      " 'General-purpose credit card or charge card' 'FHA mortgage'\n",
      " 'Credit card debt' 'Conventional home mortgage' 'Checking account'\n",
      " 'Store credit card' 'Other (i.e. phone, health club, etc.)']\n"
     ]
    }
   ],
   "source": [
    "# Analyse the unique values for category 'Sub-product'\n",
    "unique_sub_products = dataset_CC['Sub-product'].unique()\n",
    "print(f\"Unique Sub-products: {len(unique_sub_products)}\\n\")\n",
    "print(unique_sub_products[:10])"
   ]
  },
  {
   "cell_type": "code",
   "execution_count": 30,
   "id": "6f3648b1",
   "metadata": {},
   "outputs": [
    {
     "name": "stdout",
     "output_type": "stream",
     "text": [
      "Unique Issues: 161\n",
      "\n",
      "['Billing disputes' 'Incorrect information on your report'\n",
      " 'Attempts to collect debt not owed' 'Improper use of your report'\n",
      " 'Problem with a purchase shown on your statement'\n",
      " 'Loan modification,collection,foreclosure'\n",
      " 'False statements or representation' 'Trouble during payment process'\n",
      " 'Deposits and withdrawals' 'Problem when making payments']\n"
     ]
    }
   ],
   "source": [
    "# Analyse the unique values for category 'Issue'\n",
    "unique_issues = dataset_CC['Issue'].unique()\n",
    "print(f\"Unique Issues: {len(unique_issues)}\\n\")\n",
    "print(unique_issues[:10])"
   ]
  },
  {
   "cell_type": "code",
   "execution_count": 31,
   "id": "61119c58",
   "metadata": {},
   "outputs": [
    {
     "name": "stdout",
     "output_type": "stream",
     "text": [
      "Unique Sub-issues: 217\n",
      "\n",
      "[nan 'Information belongs to someone else'\n",
      " 'Debt was result of identity theft'\n",
      " \"Credit inquiries on your report that you don't recognize\"\n",
      " \"Credit card company isn't resolving a dispute about a purchase on your statement\"\n",
      " 'Public record information inaccurate'\n",
      " 'Attempted to collect wrong amount'\n",
      " 'You never received your bill or did not know a payment was due'\n",
      " 'Debt was paid' 'Information is not mine']\n"
     ]
    }
   ],
   "source": [
    "# Analyse the unique values for category 'Sub-issue'\n",
    "unique_sub_issues = dataset_CC['Sub-issue'].unique()\n",
    "print(f\"Unique Sub-issues: {len(unique_sub_issues)}\\n\")\n",
    "print(unique_sub_issues[:10])"
   ]
  },
  {
   "cell_type": "code",
   "execution_count": 34,
   "id": "e363ff44",
   "metadata": {},
   "outputs": [
    {
     "name": "stdout",
     "output_type": "stream",
     "text": [
      "Product                                                                       Sub-product                                 Issue                                                                             Sub-issue                                                                       \n",
      "Credit reporting, credit repair services, or other personal consumer reports  Credit reporting                            Incorrect information on your report                                              Information belongs to someone else                                                 30960\n",
      "                                                                                                                          Problem with a credit reporting company's investigation into an existing problem  Their investigation did not fix an error on your report                             26321\n",
      "                                                                                                                          Incorrect information on your report                                              Account status incorrect                                                            14457\n",
      "                                                                                                                                                                                                            Account information incorrect                                                       14120\n",
      "                                                                                                                          Improper use of your report                                                       Credit inquiries on your report that you don't recognize                            12836\n",
      "                                                                                                                                                                                                            Reporting company used your report improperly                                        6051\n",
      "Debt collection                                                               Other debt                                  Attempts to collect debt not owed                                                 Debt is not yours                                                                    5007\n",
      "Credit reporting, credit repair services, or other personal consumer reports  Credit reporting                            Incorrect information on your report                                              Old information reappears or never goes away                                         4036\n",
      "Credit card or prepaid card                                                   General-purpose credit card or charge card  Problem with a purchase shown on your statement                                   Credit card company isn't resolving a dispute about a purchase on your statement     3955\n",
      "Debt collection                                                               I do not know                               Attempts to collect debt not owed                                                 Debt is not yours                                                                    3747\n",
      "dtype: int64\n"
     ]
    }
   ],
   "source": [
    "# Get unique combinations of classification columns\n",
    "unique_classification_combinations = dataset_CC[['Product', 'Sub-product', 'Issue', 'Sub-issue']].value_counts()\n",
    "\n",
    "print(unique_classification_combinations.head(10))"
   ]
  },
  {
   "cell_type": "code",
   "execution_count": null,
   "id": "713fab5a",
   "metadata": {},
   "outputs": [],
   "source": []
  }
 ],
 "metadata": {
  "kernelspec": {
   "display_name": "Python 3 (ipykernel)",
   "language": "python",
   "name": "python3"
  },
  "language_info": {
   "codemirror_mode": {
    "name": "ipython",
    "version": 3
   },
   "file_extension": ".py",
   "mimetype": "text/x-python",
   "name": "python",
   "nbconvert_exporter": "python",
   "pygments_lexer": "ipython3",
   "version": "3.11.2"
  }
 },
 "nbformat": 4,
 "nbformat_minor": 5
}
